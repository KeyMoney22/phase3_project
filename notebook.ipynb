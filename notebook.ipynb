{
 "cells": [
  {
   "cell_type": "markdown",
   "metadata": {},
   "source": [
    "#### Phase 3: Project Submission"
   ]
  },
  {
   "cell_type": "markdown",
   "metadata": {},
   "source": [
    "Student name: James Kimani\n",
    "\n",
    "Student pace: Partime\n",
    "\n",
    "Instructor name: Noah Kandie\n"
   ]
  },
  {
   "cell_type": "code",
   "execution_count": null,
   "metadata": {},
   "outputs": [],
   "source": []
  },
  {
   "cell_type": "markdown",
   "metadata": {},
   "source": [
    "### Business Problem"
   ]
  },
  {
   "cell_type": "markdown",
   "metadata": {},
   "source": [
    "The goal of this analysis and model determine with water pumps are faulty and hence enable access to clean water accross Tanzania reliably. \n"
   ]
  },
  {
   "cell_type": "markdown",
   "metadata": {},
   "source": [
    "### Objective"
   ]
  },
  {
   "cell_type": "markdown",
   "metadata": {},
   "source": [
    "The purpose of this analysis is to use classification modeling tecniques to accurately predict which water pumps are faulty and allow for stakeholders to repair/replace such and ensure consistent supply of clean water accross Tanzania."
   ]
  },
  {
   "cell_type": "markdown",
   "metadata": {},
   "source": [
    "### Data Understanding"
   ]
  },
  {
   "cell_type": "markdown",
   "metadata": {},
   "source": [
    "The dataset used in this modelling is derived from https://www.drivendata.org/competitions/7/pump-it-up-data-mining-the-water-table/page/25/. \n",
    "\n",
    "The data contain information on water pumps recorded across the country of Tanzania. The Target variable is the status group of a pump given various characteristics of the pump including but not limited to Geographic location, Water quantity, GPS height location and Construction year among other features "
   ]
  },
  {
   "cell_type": "markdown",
   "metadata": {},
   "source": [
    "### Success Criteria"
   ]
  },
  {
   "cell_type": "markdown",
   "metadata": {},
   "source": [
    "The objective is to obtain a prediction model that can correctly predict the condition of a water pump by 80% accuracy."
   ]
  },
  {
   "cell_type": "markdown",
   "metadata": {},
   "source": [
    "## 1. Importing Relevant Libraries"
   ]
  },
  {
   "cell_type": "code",
   "execution_count": 58,
   "metadata": {},
   "outputs": [],
   "source": [
    "import pandas as pd\n",
    "pd.set_option('display.max_columns', 40)\n",
    "import matplotlib.pyplot as plt\n",
    "import numpy as np\n",
    "import seaborn as sns\n",
    "import statsmodels.api as sm\n",
    "sns.set()\n",
    "import time\n",
    "\n",
    "from IPython.display import display\n",
    "from sklearn.linear_model import LinearRegression, LogisticRegression\n",
    "from sklearn.model_selection import train_test_split, GridSearchCV\n",
    "from sklearn.preprocessing import LabelEncoder, OneHotEncoder, StandardScaler\n",
    "from sklearn.ensemble import GradientBoostingClassifier\n",
    "from sklearn import metrics\n",
    "from sklearn.metrics import classification_report, confusion_matrix\n"
   ]
  },
  {
   "cell_type": "markdown",
   "metadata": {},
   "source": [
    "## 2. Loading our data and Data Description"
   ]
  },
  {
   "cell_type": "code",
   "execution_count": 3,
   "metadata": {},
   "outputs": [],
   "source": [
    "#Loading our data set into a pandas dataframes\n",
    "\n",
    "df_1 = pd.read_csv('train_data.csv', header = 0)\n",
    "df_2 = pd.read_csv('test_data.csv', header = 0)\n",
    "df_3 = pd.read_csv('labels.csv')\n",
    "\n",
    "# Combining both the train and test dataframes to one dataset, split to be done at the point of modeling\n",
    "df = pd.concat([df_1, df_2])\n",
    "# merging our labels into the dataset\n",
    "\n",
    "df = pd.merge(df, df_3, on='id')"
   ]
  },
  {
   "cell_type": "code",
   "execution_count": 8,
   "metadata": {},
   "outputs": [
    {
     "data": {
      "text/plain": [
       "0"
      ]
     },
     "execution_count": 8,
     "metadata": {},
     "output_type": "execute_result"
    }
   ],
   "source": [
    "# Checking for Duplicates\n",
    "df.duplicated().sum()"
   ]
  },
  {
   "cell_type": "code",
   "execution_count": 3,
   "metadata": {
    "scrolled": true,
    "tags": []
   },
   "outputs": [
    {
     "data": {
      "text/html": [
       "<div>\n",
       "<style scoped>\n",
       "    .dataframe tbody tr th:only-of-type {\n",
       "        vertical-align: middle;\n",
       "    }\n",
       "\n",
       "    .dataframe tbody tr th {\n",
       "        vertical-align: top;\n",
       "    }\n",
       "\n",
       "    .dataframe thead th {\n",
       "        text-align: right;\n",
       "    }\n",
       "</style>\n",
       "<table border=\"1\" class=\"dataframe\">\n",
       "  <thead>\n",
       "    <tr style=\"text-align: right;\">\n",
       "      <th></th>\n",
       "      <th>id</th>\n",
       "      <th>amount_tsh</th>\n",
       "      <th>date_recorded</th>\n",
       "      <th>funder</th>\n",
       "      <th>gps_height</th>\n",
       "      <th>installer</th>\n",
       "      <th>longitude</th>\n",
       "      <th>latitude</th>\n",
       "      <th>wpt_name</th>\n",
       "      <th>num_private</th>\n",
       "      <th>basin</th>\n",
       "      <th>subvillage</th>\n",
       "      <th>region</th>\n",
       "      <th>region_code</th>\n",
       "      <th>district_code</th>\n",
       "      <th>lga</th>\n",
       "      <th>ward</th>\n",
       "      <th>population</th>\n",
       "      <th>public_meeting</th>\n",
       "      <th>recorded_by</th>\n",
       "      <th>...</th>\n",
       "      <th>scheme_name</th>\n",
       "      <th>permit</th>\n",
       "      <th>construction_year</th>\n",
       "      <th>extraction_type</th>\n",
       "      <th>extraction_type_group</th>\n",
       "      <th>extraction_type_class</th>\n",
       "      <th>management</th>\n",
       "      <th>management_group</th>\n",
       "      <th>payment</th>\n",
       "      <th>payment_type</th>\n",
       "      <th>water_quality</th>\n",
       "      <th>quality_group</th>\n",
       "      <th>quantity</th>\n",
       "      <th>quantity_group</th>\n",
       "      <th>source</th>\n",
       "      <th>source_type</th>\n",
       "      <th>source_class</th>\n",
       "      <th>waterpoint_type</th>\n",
       "      <th>waterpoint_type_group</th>\n",
       "      <th>status_group</th>\n",
       "    </tr>\n",
       "  </thead>\n",
       "  <tbody>\n",
       "    <tr>\n",
       "      <th>0</th>\n",
       "      <td>69572</td>\n",
       "      <td>6000.0</td>\n",
       "      <td>14/03/2011</td>\n",
       "      <td>Roman</td>\n",
       "      <td>1390</td>\n",
       "      <td>Roman</td>\n",
       "      <td>34.938093</td>\n",
       "      <td>-9.856322</td>\n",
       "      <td>none</td>\n",
       "      <td>0</td>\n",
       "      <td>Lake Nyasa</td>\n",
       "      <td>Mnyusi B</td>\n",
       "      <td>Iringa</td>\n",
       "      <td>11</td>\n",
       "      <td>5</td>\n",
       "      <td>Ludewa</td>\n",
       "      <td>Mundindi</td>\n",
       "      <td>109</td>\n",
       "      <td>True</td>\n",
       "      <td>GeoData Consultants Ltd</td>\n",
       "      <td>...</td>\n",
       "      <td>Roman</td>\n",
       "      <td>False</td>\n",
       "      <td>1999</td>\n",
       "      <td>gravity</td>\n",
       "      <td>gravity</td>\n",
       "      <td>gravity</td>\n",
       "      <td>vwc</td>\n",
       "      <td>user-group</td>\n",
       "      <td>pay annually</td>\n",
       "      <td>annually</td>\n",
       "      <td>soft</td>\n",
       "      <td>good</td>\n",
       "      <td>enough</td>\n",
       "      <td>enough</td>\n",
       "      <td>spring</td>\n",
       "      <td>spring</td>\n",
       "      <td>groundwater</td>\n",
       "      <td>communal standpipe</td>\n",
       "      <td>communal standpipe</td>\n",
       "      <td>functional</td>\n",
       "    </tr>\n",
       "    <tr>\n",
       "      <th>1</th>\n",
       "      <td>8776</td>\n",
       "      <td>0.0</td>\n",
       "      <td>06/03/2013</td>\n",
       "      <td>Grumeti</td>\n",
       "      <td>1399</td>\n",
       "      <td>GRUMETI</td>\n",
       "      <td>34.698766</td>\n",
       "      <td>-2.147466</td>\n",
       "      <td>Zahanati</td>\n",
       "      <td>0</td>\n",
       "      <td>Lake Victoria</td>\n",
       "      <td>Nyamara</td>\n",
       "      <td>Mara</td>\n",
       "      <td>20</td>\n",
       "      <td>2</td>\n",
       "      <td>Serengeti</td>\n",
       "      <td>Natta</td>\n",
       "      <td>280</td>\n",
       "      <td>NaN</td>\n",
       "      <td>GeoData Consultants Ltd</td>\n",
       "      <td>...</td>\n",
       "      <td>NaN</td>\n",
       "      <td>True</td>\n",
       "      <td>2010</td>\n",
       "      <td>gravity</td>\n",
       "      <td>gravity</td>\n",
       "      <td>gravity</td>\n",
       "      <td>wug</td>\n",
       "      <td>user-group</td>\n",
       "      <td>never pay</td>\n",
       "      <td>never pay</td>\n",
       "      <td>soft</td>\n",
       "      <td>good</td>\n",
       "      <td>insufficient</td>\n",
       "      <td>insufficient</td>\n",
       "      <td>rainwater harvesting</td>\n",
       "      <td>rainwater harvesting</td>\n",
       "      <td>surface</td>\n",
       "      <td>communal standpipe</td>\n",
       "      <td>communal standpipe</td>\n",
       "      <td>functional</td>\n",
       "    </tr>\n",
       "    <tr>\n",
       "      <th>2</th>\n",
       "      <td>34310</td>\n",
       "      <td>25.0</td>\n",
       "      <td>25/02/2013</td>\n",
       "      <td>Lottery Club</td>\n",
       "      <td>686</td>\n",
       "      <td>World vision</td>\n",
       "      <td>37.460664</td>\n",
       "      <td>-3.821329</td>\n",
       "      <td>Kwa Mahundi</td>\n",
       "      <td>0</td>\n",
       "      <td>Pangani</td>\n",
       "      <td>Majengo</td>\n",
       "      <td>Manyara</td>\n",
       "      <td>21</td>\n",
       "      <td>4</td>\n",
       "      <td>Simanjiro</td>\n",
       "      <td>Ngorika</td>\n",
       "      <td>250</td>\n",
       "      <td>True</td>\n",
       "      <td>GeoData Consultants Ltd</td>\n",
       "      <td>...</td>\n",
       "      <td>Nyumba ya mungu pipe scheme</td>\n",
       "      <td>True</td>\n",
       "      <td>2009</td>\n",
       "      <td>gravity</td>\n",
       "      <td>gravity</td>\n",
       "      <td>gravity</td>\n",
       "      <td>vwc</td>\n",
       "      <td>user-group</td>\n",
       "      <td>pay per bucket</td>\n",
       "      <td>per bucket</td>\n",
       "      <td>soft</td>\n",
       "      <td>good</td>\n",
       "      <td>enough</td>\n",
       "      <td>enough</td>\n",
       "      <td>dam</td>\n",
       "      <td>dam</td>\n",
       "      <td>surface</td>\n",
       "      <td>communal standpipe multiple</td>\n",
       "      <td>communal standpipe</td>\n",
       "      <td>functional</td>\n",
       "    </tr>\n",
       "    <tr>\n",
       "      <th>3</th>\n",
       "      <td>67743</td>\n",
       "      <td>0.0</td>\n",
       "      <td>28/01/2013</td>\n",
       "      <td>Unicef</td>\n",
       "      <td>263</td>\n",
       "      <td>UNICEF</td>\n",
       "      <td>38.486161</td>\n",
       "      <td>-11.155298</td>\n",
       "      <td>Zahanati Ya Nanyumbu</td>\n",
       "      <td>0</td>\n",
       "      <td>Ruvuma / Southern Coast</td>\n",
       "      <td>Mahakamani</td>\n",
       "      <td>Mtwara</td>\n",
       "      <td>90</td>\n",
       "      <td>63</td>\n",
       "      <td>Nanyumbu</td>\n",
       "      <td>Nanyumbu</td>\n",
       "      <td>58</td>\n",
       "      <td>True</td>\n",
       "      <td>GeoData Consultants Ltd</td>\n",
       "      <td>...</td>\n",
       "      <td>NaN</td>\n",
       "      <td>True</td>\n",
       "      <td>1986</td>\n",
       "      <td>submersible</td>\n",
       "      <td>submersible</td>\n",
       "      <td>submersible</td>\n",
       "      <td>vwc</td>\n",
       "      <td>user-group</td>\n",
       "      <td>never pay</td>\n",
       "      <td>never pay</td>\n",
       "      <td>soft</td>\n",
       "      <td>good</td>\n",
       "      <td>dry</td>\n",
       "      <td>dry</td>\n",
       "      <td>machine dbh</td>\n",
       "      <td>borehole</td>\n",
       "      <td>groundwater</td>\n",
       "      <td>communal standpipe multiple</td>\n",
       "      <td>communal standpipe</td>\n",
       "      <td>non functional</td>\n",
       "    </tr>\n",
       "    <tr>\n",
       "      <th>4</th>\n",
       "      <td>19728</td>\n",
       "      <td>0.0</td>\n",
       "      <td>13/07/2011</td>\n",
       "      <td>Action In A</td>\n",
       "      <td>0</td>\n",
       "      <td>Artisan</td>\n",
       "      <td>31.130847</td>\n",
       "      <td>-1.825359</td>\n",
       "      <td>Shuleni</td>\n",
       "      <td>0</td>\n",
       "      <td>Lake Victoria</td>\n",
       "      <td>Kyanyamisa</td>\n",
       "      <td>Kagera</td>\n",
       "      <td>18</td>\n",
       "      <td>1</td>\n",
       "      <td>Karagwe</td>\n",
       "      <td>Nyakasimbi</td>\n",
       "      <td>0</td>\n",
       "      <td>True</td>\n",
       "      <td>GeoData Consultants Ltd</td>\n",
       "      <td>...</td>\n",
       "      <td>NaN</td>\n",
       "      <td>True</td>\n",
       "      <td>0</td>\n",
       "      <td>gravity</td>\n",
       "      <td>gravity</td>\n",
       "      <td>gravity</td>\n",
       "      <td>other</td>\n",
       "      <td>other</td>\n",
       "      <td>never pay</td>\n",
       "      <td>never pay</td>\n",
       "      <td>soft</td>\n",
       "      <td>good</td>\n",
       "      <td>seasonal</td>\n",
       "      <td>seasonal</td>\n",
       "      <td>rainwater harvesting</td>\n",
       "      <td>rainwater harvesting</td>\n",
       "      <td>surface</td>\n",
       "      <td>communal standpipe</td>\n",
       "      <td>communal standpipe</td>\n",
       "      <td>functional</td>\n",
       "    </tr>\n",
       "  </tbody>\n",
       "</table>\n",
       "<p>5 rows × 41 columns</p>\n",
       "</div>"
      ],
      "text/plain": [
       "      id  amount_tsh date_recorded        funder  gps_height     installer  \\\n",
       "0  69572      6000.0    14/03/2011         Roman        1390         Roman   \n",
       "1   8776         0.0    06/03/2013       Grumeti        1399       GRUMETI   \n",
       "2  34310        25.0    25/02/2013  Lottery Club         686  World vision   \n",
       "3  67743         0.0    28/01/2013        Unicef         263        UNICEF   \n",
       "4  19728         0.0    13/07/2011   Action In A           0       Artisan   \n",
       "\n",
       "   longitude   latitude              wpt_name  num_private  \\\n",
       "0  34.938093  -9.856322                  none            0   \n",
       "1  34.698766  -2.147466              Zahanati            0   \n",
       "2  37.460664  -3.821329           Kwa Mahundi            0   \n",
       "3  38.486161 -11.155298  Zahanati Ya Nanyumbu            0   \n",
       "4  31.130847  -1.825359               Shuleni            0   \n",
       "\n",
       "                     basin  subvillage   region  region_code  district_code  \\\n",
       "0               Lake Nyasa    Mnyusi B   Iringa           11              5   \n",
       "1            Lake Victoria     Nyamara     Mara           20              2   \n",
       "2                  Pangani     Majengo  Manyara           21              4   \n",
       "3  Ruvuma / Southern Coast  Mahakamani   Mtwara           90             63   \n",
       "4            Lake Victoria  Kyanyamisa   Kagera           18              1   \n",
       "\n",
       "         lga        ward  population public_meeting              recorded_by  \\\n",
       "0     Ludewa    Mundindi         109           True  GeoData Consultants Ltd   \n",
       "1  Serengeti       Natta         280            NaN  GeoData Consultants Ltd   \n",
       "2  Simanjiro     Ngorika         250           True  GeoData Consultants Ltd   \n",
       "3   Nanyumbu    Nanyumbu          58           True  GeoData Consultants Ltd   \n",
       "4    Karagwe  Nyakasimbi           0           True  GeoData Consultants Ltd   \n",
       "\n",
       "   ...                  scheme_name permit construction_year  extraction_type  \\\n",
       "0  ...                        Roman  False              1999          gravity   \n",
       "1  ...                          NaN   True              2010          gravity   \n",
       "2  ...  Nyumba ya mungu pipe scheme   True              2009          gravity   \n",
       "3  ...                          NaN   True              1986      submersible   \n",
       "4  ...                          NaN   True                 0          gravity   \n",
       "\n",
       "  extraction_type_group extraction_type_class management management_group  \\\n",
       "0               gravity               gravity        vwc       user-group   \n",
       "1               gravity               gravity        wug       user-group   \n",
       "2               gravity               gravity        vwc       user-group   \n",
       "3           submersible           submersible        vwc       user-group   \n",
       "4               gravity               gravity      other            other   \n",
       "\n",
       "          payment payment_type water_quality quality_group      quantity  \\\n",
       "0    pay annually     annually          soft          good        enough   \n",
       "1       never pay    never pay          soft          good  insufficient   \n",
       "2  pay per bucket   per bucket          soft          good        enough   \n",
       "3       never pay    never pay          soft          good           dry   \n",
       "4       never pay    never pay          soft          good      seasonal   \n",
       "\n",
       "  quantity_group                source           source_type source_class  \\\n",
       "0         enough                spring                spring  groundwater   \n",
       "1   insufficient  rainwater harvesting  rainwater harvesting      surface   \n",
       "2         enough                   dam                   dam      surface   \n",
       "3            dry           machine dbh              borehole  groundwater   \n",
       "4       seasonal  rainwater harvesting  rainwater harvesting      surface   \n",
       "\n",
       "               waterpoint_type waterpoint_type_group    status_group  \n",
       "0           communal standpipe    communal standpipe      functional  \n",
       "1           communal standpipe    communal standpipe      functional  \n",
       "2  communal standpipe multiple    communal standpipe      functional  \n",
       "3  communal standpipe multiple    communal standpipe  non functional  \n",
       "4           communal standpipe    communal standpipe      functional  \n",
       "\n",
       "[5 rows x 41 columns]"
      ]
     },
     "execution_count": 3,
     "metadata": {},
     "output_type": "execute_result"
    }
   ],
   "source": [
    "# Displaying the 1st 5 rows of our data\n",
    "df.head()"
   ]
  },
  {
   "cell_type": "code",
   "execution_count": 4,
   "metadata": {},
   "outputs": [
    {
     "name": "stdout",
     "output_type": "stream",
     "text": [
      "<class 'pandas.core.frame.DataFrame'>\n",
      "Int64Index: 59400 entries, 0 to 59399\n",
      "Data columns (total 41 columns):\n",
      " #   Column                 Non-Null Count  Dtype  \n",
      "---  ------                 --------------  -----  \n",
      " 0   id                     59400 non-null  int64  \n",
      " 1   amount_tsh             59400 non-null  float64\n",
      " 2   date_recorded          59400 non-null  object \n",
      " 3   funder                 55765 non-null  object \n",
      " 4   gps_height             59400 non-null  int64  \n",
      " 5   installer              55745 non-null  object \n",
      " 6   longitude              59400 non-null  float64\n",
      " 7   latitude               59400 non-null  float64\n",
      " 8   wpt_name               59400 non-null  object \n",
      " 9   num_private            59400 non-null  int64  \n",
      " 10  basin                  59400 non-null  object \n",
      " 11  subvillage             59029 non-null  object \n",
      " 12  region                 59400 non-null  object \n",
      " 13  region_code            59400 non-null  int64  \n",
      " 14  district_code          59400 non-null  int64  \n",
      " 15  lga                    59400 non-null  object \n",
      " 16  ward                   59400 non-null  object \n",
      " 17  population             59400 non-null  int64  \n",
      " 18  public_meeting         56066 non-null  object \n",
      " 19  recorded_by            59400 non-null  object \n",
      " 20  scheme_management      55523 non-null  object \n",
      " 21  scheme_name            31234 non-null  object \n",
      " 22  permit                 56344 non-null  object \n",
      " 23  construction_year      59400 non-null  int64  \n",
      " 24  extraction_type        59400 non-null  object \n",
      " 25  extraction_type_group  59400 non-null  object \n",
      " 26  extraction_type_class  59400 non-null  object \n",
      " 27  management             59400 non-null  object \n",
      " 28  management_group       59400 non-null  object \n",
      " 29  payment                59400 non-null  object \n",
      " 30  payment_type           59400 non-null  object \n",
      " 31  water_quality          59400 non-null  object \n",
      " 32  quality_group          59400 non-null  object \n",
      " 33  quantity               59400 non-null  object \n",
      " 34  quantity_group         59400 non-null  object \n",
      " 35  source                 59400 non-null  object \n",
      " 36  source_type            59400 non-null  object \n",
      " 37  source_class           59400 non-null  object \n",
      " 38  waterpoint_type        59400 non-null  object \n",
      " 39  waterpoint_type_group  59400 non-null  object \n",
      " 40  status_group           59400 non-null  object \n",
      "dtypes: float64(3), int64(7), object(31)\n",
      "memory usage: 19.0+ MB\n"
     ]
    }
   ],
   "source": [
    "#Checking the datatypes of our columns\n",
    "df.info()"
   ]
  },
  {
   "cell_type": "code",
   "execution_count": 9,
   "metadata": {
    "scrolled": true,
    "tags": []
   },
   "outputs": [
    {
     "data": {
      "text/html": [
       "<div>\n",
       "<style scoped>\n",
       "    .dataframe tbody tr th:only-of-type {\n",
       "        vertical-align: middle;\n",
       "    }\n",
       "\n",
       "    .dataframe tbody tr th {\n",
       "        vertical-align: top;\n",
       "    }\n",
       "\n",
       "    .dataframe thead th {\n",
       "        text-align: right;\n",
       "    }\n",
       "</style>\n",
       "<table border=\"1\" class=\"dataframe\">\n",
       "  <thead>\n",
       "    <tr style=\"text-align: right;\">\n",
       "      <th></th>\n",
       "      <th>id</th>\n",
       "      <th>amount_tsh</th>\n",
       "      <th>date_recorded</th>\n",
       "      <th>funder</th>\n",
       "      <th>gps_height</th>\n",
       "      <th>installer</th>\n",
       "      <th>longitude</th>\n",
       "      <th>latitude</th>\n",
       "      <th>wpt_name</th>\n",
       "      <th>num_private</th>\n",
       "      <th>basin</th>\n",
       "      <th>subvillage</th>\n",
       "      <th>region</th>\n",
       "      <th>region_code</th>\n",
       "      <th>district_code</th>\n",
       "      <th>lga</th>\n",
       "      <th>ward</th>\n",
       "      <th>population</th>\n",
       "      <th>public_meeting</th>\n",
       "      <th>recorded_by</th>\n",
       "      <th>...</th>\n",
       "      <th>scheme_name</th>\n",
       "      <th>permit</th>\n",
       "      <th>construction_year</th>\n",
       "      <th>extraction_type</th>\n",
       "      <th>extraction_type_group</th>\n",
       "      <th>extraction_type_class</th>\n",
       "      <th>management</th>\n",
       "      <th>management_group</th>\n",
       "      <th>payment</th>\n",
       "      <th>payment_type</th>\n",
       "      <th>water_quality</th>\n",
       "      <th>quality_group</th>\n",
       "      <th>quantity</th>\n",
       "      <th>quantity_group</th>\n",
       "      <th>source</th>\n",
       "      <th>source_type</th>\n",
       "      <th>source_class</th>\n",
       "      <th>waterpoint_type</th>\n",
       "      <th>waterpoint_type_group</th>\n",
       "      <th>status_group</th>\n",
       "    </tr>\n",
       "  </thead>\n",
       "  <tbody>\n",
       "    <tr>\n",
       "      <th>count</th>\n",
       "      <td>59400.000000</td>\n",
       "      <td>59400.000000</td>\n",
       "      <td>59400</td>\n",
       "      <td>55765</td>\n",
       "      <td>59400.000000</td>\n",
       "      <td>55745</td>\n",
       "      <td>59400.000000</td>\n",
       "      <td>5.940000e+04</td>\n",
       "      <td>59400</td>\n",
       "      <td>59400.000000</td>\n",
       "      <td>59400</td>\n",
       "      <td>59029</td>\n",
       "      <td>59400</td>\n",
       "      <td>59400.000000</td>\n",
       "      <td>59400.000000</td>\n",
       "      <td>59400</td>\n",
       "      <td>59400</td>\n",
       "      <td>59400.000000</td>\n",
       "      <td>56066</td>\n",
       "      <td>59400</td>\n",
       "      <td>...</td>\n",
       "      <td>31234</td>\n",
       "      <td>56344</td>\n",
       "      <td>59400.000000</td>\n",
       "      <td>59400</td>\n",
       "      <td>59400</td>\n",
       "      <td>59400</td>\n",
       "      <td>59400</td>\n",
       "      <td>59400</td>\n",
       "      <td>59400</td>\n",
       "      <td>59400</td>\n",
       "      <td>59400</td>\n",
       "      <td>59400</td>\n",
       "      <td>59400</td>\n",
       "      <td>59400</td>\n",
       "      <td>59400</td>\n",
       "      <td>59400</td>\n",
       "      <td>59400</td>\n",
       "      <td>59400</td>\n",
       "      <td>59400</td>\n",
       "      <td>59400</td>\n",
       "    </tr>\n",
       "    <tr>\n",
       "      <th>unique</th>\n",
       "      <td>NaN</td>\n",
       "      <td>NaN</td>\n",
       "      <td>356</td>\n",
       "      <td>1897</td>\n",
       "      <td>NaN</td>\n",
       "      <td>2145</td>\n",
       "      <td>NaN</td>\n",
       "      <td>NaN</td>\n",
       "      <td>37400</td>\n",
       "      <td>NaN</td>\n",
       "      <td>9</td>\n",
       "      <td>19287</td>\n",
       "      <td>21</td>\n",
       "      <td>NaN</td>\n",
       "      <td>NaN</td>\n",
       "      <td>125</td>\n",
       "      <td>2092</td>\n",
       "      <td>NaN</td>\n",
       "      <td>2</td>\n",
       "      <td>1</td>\n",
       "      <td>...</td>\n",
       "      <td>2696</td>\n",
       "      <td>2</td>\n",
       "      <td>NaN</td>\n",
       "      <td>18</td>\n",
       "      <td>13</td>\n",
       "      <td>7</td>\n",
       "      <td>12</td>\n",
       "      <td>5</td>\n",
       "      <td>7</td>\n",
       "      <td>7</td>\n",
       "      <td>8</td>\n",
       "      <td>6</td>\n",
       "      <td>5</td>\n",
       "      <td>5</td>\n",
       "      <td>10</td>\n",
       "      <td>7</td>\n",
       "      <td>3</td>\n",
       "      <td>7</td>\n",
       "      <td>6</td>\n",
       "      <td>3</td>\n",
       "    </tr>\n",
       "    <tr>\n",
       "      <th>top</th>\n",
       "      <td>NaN</td>\n",
       "      <td>NaN</td>\n",
       "      <td>15/03/2011</td>\n",
       "      <td>Government Of Tanzania</td>\n",
       "      <td>NaN</td>\n",
       "      <td>DWE</td>\n",
       "      <td>NaN</td>\n",
       "      <td>NaN</td>\n",
       "      <td>none</td>\n",
       "      <td>NaN</td>\n",
       "      <td>Lake Victoria</td>\n",
       "      <td>Madukani</td>\n",
       "      <td>Iringa</td>\n",
       "      <td>NaN</td>\n",
       "      <td>NaN</td>\n",
       "      <td>Njombe</td>\n",
       "      <td>Igosi</td>\n",
       "      <td>NaN</td>\n",
       "      <td>True</td>\n",
       "      <td>GeoData Consultants Ltd</td>\n",
       "      <td>...</td>\n",
       "      <td>K</td>\n",
       "      <td>True</td>\n",
       "      <td>NaN</td>\n",
       "      <td>gravity</td>\n",
       "      <td>gravity</td>\n",
       "      <td>gravity</td>\n",
       "      <td>vwc</td>\n",
       "      <td>user-group</td>\n",
       "      <td>never pay</td>\n",
       "      <td>never pay</td>\n",
       "      <td>soft</td>\n",
       "      <td>good</td>\n",
       "      <td>enough</td>\n",
       "      <td>enough</td>\n",
       "      <td>spring</td>\n",
       "      <td>spring</td>\n",
       "      <td>groundwater</td>\n",
       "      <td>communal standpipe</td>\n",
       "      <td>communal standpipe</td>\n",
       "      <td>functional</td>\n",
       "    </tr>\n",
       "    <tr>\n",
       "      <th>freq</th>\n",
       "      <td>NaN</td>\n",
       "      <td>NaN</td>\n",
       "      <td>572</td>\n",
       "      <td>9084</td>\n",
       "      <td>NaN</td>\n",
       "      <td>17402</td>\n",
       "      <td>NaN</td>\n",
       "      <td>NaN</td>\n",
       "      <td>3563</td>\n",
       "      <td>NaN</td>\n",
       "      <td>10248</td>\n",
       "      <td>508</td>\n",
       "      <td>5294</td>\n",
       "      <td>NaN</td>\n",
       "      <td>NaN</td>\n",
       "      <td>2503</td>\n",
       "      <td>307</td>\n",
       "      <td>NaN</td>\n",
       "      <td>51011</td>\n",
       "      <td>59400</td>\n",
       "      <td>...</td>\n",
       "      <td>682</td>\n",
       "      <td>38852</td>\n",
       "      <td>NaN</td>\n",
       "      <td>26780</td>\n",
       "      <td>26780</td>\n",
       "      <td>26780</td>\n",
       "      <td>40507</td>\n",
       "      <td>52490</td>\n",
       "      <td>25348</td>\n",
       "      <td>25348</td>\n",
       "      <td>50818</td>\n",
       "      <td>50818</td>\n",
       "      <td>33186</td>\n",
       "      <td>33186</td>\n",
       "      <td>17021</td>\n",
       "      <td>17021</td>\n",
       "      <td>45794</td>\n",
       "      <td>28522</td>\n",
       "      <td>34625</td>\n",
       "      <td>32259</td>\n",
       "    </tr>\n",
       "    <tr>\n",
       "      <th>mean</th>\n",
       "      <td>37115.131768</td>\n",
       "      <td>317.650385</td>\n",
       "      <td>NaN</td>\n",
       "      <td>NaN</td>\n",
       "      <td>668.297239</td>\n",
       "      <td>NaN</td>\n",
       "      <td>34.077427</td>\n",
       "      <td>-5.706033e+00</td>\n",
       "      <td>NaN</td>\n",
       "      <td>0.474141</td>\n",
       "      <td>NaN</td>\n",
       "      <td>NaN</td>\n",
       "      <td>NaN</td>\n",
       "      <td>15.297003</td>\n",
       "      <td>5.629747</td>\n",
       "      <td>NaN</td>\n",
       "      <td>NaN</td>\n",
       "      <td>179.909983</td>\n",
       "      <td>NaN</td>\n",
       "      <td>NaN</td>\n",
       "      <td>...</td>\n",
       "      <td>NaN</td>\n",
       "      <td>NaN</td>\n",
       "      <td>1300.652475</td>\n",
       "      <td>NaN</td>\n",
       "      <td>NaN</td>\n",
       "      <td>NaN</td>\n",
       "      <td>NaN</td>\n",
       "      <td>NaN</td>\n",
       "      <td>NaN</td>\n",
       "      <td>NaN</td>\n",
       "      <td>NaN</td>\n",
       "      <td>NaN</td>\n",
       "      <td>NaN</td>\n",
       "      <td>NaN</td>\n",
       "      <td>NaN</td>\n",
       "      <td>NaN</td>\n",
       "      <td>NaN</td>\n",
       "      <td>NaN</td>\n",
       "      <td>NaN</td>\n",
       "      <td>NaN</td>\n",
       "    </tr>\n",
       "    <tr>\n",
       "      <th>std</th>\n",
       "      <td>21453.128371</td>\n",
       "      <td>2997.574558</td>\n",
       "      <td>NaN</td>\n",
       "      <td>NaN</td>\n",
       "      <td>693.116350</td>\n",
       "      <td>NaN</td>\n",
       "      <td>6.567432</td>\n",
       "      <td>2.946019e+00</td>\n",
       "      <td>NaN</td>\n",
       "      <td>12.236230</td>\n",
       "      <td>NaN</td>\n",
       "      <td>NaN</td>\n",
       "      <td>NaN</td>\n",
       "      <td>17.587406</td>\n",
       "      <td>9.633649</td>\n",
       "      <td>NaN</td>\n",
       "      <td>NaN</td>\n",
       "      <td>471.482176</td>\n",
       "      <td>NaN</td>\n",
       "      <td>NaN</td>\n",
       "      <td>...</td>\n",
       "      <td>NaN</td>\n",
       "      <td>NaN</td>\n",
       "      <td>951.620547</td>\n",
       "      <td>NaN</td>\n",
       "      <td>NaN</td>\n",
       "      <td>NaN</td>\n",
       "      <td>NaN</td>\n",
       "      <td>NaN</td>\n",
       "      <td>NaN</td>\n",
       "      <td>NaN</td>\n",
       "      <td>NaN</td>\n",
       "      <td>NaN</td>\n",
       "      <td>NaN</td>\n",
       "      <td>NaN</td>\n",
       "      <td>NaN</td>\n",
       "      <td>NaN</td>\n",
       "      <td>NaN</td>\n",
       "      <td>NaN</td>\n",
       "      <td>NaN</td>\n",
       "      <td>NaN</td>\n",
       "    </tr>\n",
       "    <tr>\n",
       "      <th>min</th>\n",
       "      <td>0.000000</td>\n",
       "      <td>0.000000</td>\n",
       "      <td>NaN</td>\n",
       "      <td>NaN</td>\n",
       "      <td>-90.000000</td>\n",
       "      <td>NaN</td>\n",
       "      <td>0.000000</td>\n",
       "      <td>-1.164944e+01</td>\n",
       "      <td>NaN</td>\n",
       "      <td>0.000000</td>\n",
       "      <td>NaN</td>\n",
       "      <td>NaN</td>\n",
       "      <td>NaN</td>\n",
       "      <td>1.000000</td>\n",
       "      <td>0.000000</td>\n",
       "      <td>NaN</td>\n",
       "      <td>NaN</td>\n",
       "      <td>0.000000</td>\n",
       "      <td>NaN</td>\n",
       "      <td>NaN</td>\n",
       "      <td>...</td>\n",
       "      <td>NaN</td>\n",
       "      <td>NaN</td>\n",
       "      <td>0.000000</td>\n",
       "      <td>NaN</td>\n",
       "      <td>NaN</td>\n",
       "      <td>NaN</td>\n",
       "      <td>NaN</td>\n",
       "      <td>NaN</td>\n",
       "      <td>NaN</td>\n",
       "      <td>NaN</td>\n",
       "      <td>NaN</td>\n",
       "      <td>NaN</td>\n",
       "      <td>NaN</td>\n",
       "      <td>NaN</td>\n",
       "      <td>NaN</td>\n",
       "      <td>NaN</td>\n",
       "      <td>NaN</td>\n",
       "      <td>NaN</td>\n",
       "      <td>NaN</td>\n",
       "      <td>NaN</td>\n",
       "    </tr>\n",
       "    <tr>\n",
       "      <th>25%</th>\n",
       "      <td>18519.750000</td>\n",
       "      <td>0.000000</td>\n",
       "      <td>NaN</td>\n",
       "      <td>NaN</td>\n",
       "      <td>0.000000</td>\n",
       "      <td>NaN</td>\n",
       "      <td>33.090347</td>\n",
       "      <td>-8.540621e+00</td>\n",
       "      <td>NaN</td>\n",
       "      <td>0.000000</td>\n",
       "      <td>NaN</td>\n",
       "      <td>NaN</td>\n",
       "      <td>NaN</td>\n",
       "      <td>5.000000</td>\n",
       "      <td>2.000000</td>\n",
       "      <td>NaN</td>\n",
       "      <td>NaN</td>\n",
       "      <td>0.000000</td>\n",
       "      <td>NaN</td>\n",
       "      <td>NaN</td>\n",
       "      <td>...</td>\n",
       "      <td>NaN</td>\n",
       "      <td>NaN</td>\n",
       "      <td>0.000000</td>\n",
       "      <td>NaN</td>\n",
       "      <td>NaN</td>\n",
       "      <td>NaN</td>\n",
       "      <td>NaN</td>\n",
       "      <td>NaN</td>\n",
       "      <td>NaN</td>\n",
       "      <td>NaN</td>\n",
       "      <td>NaN</td>\n",
       "      <td>NaN</td>\n",
       "      <td>NaN</td>\n",
       "      <td>NaN</td>\n",
       "      <td>NaN</td>\n",
       "      <td>NaN</td>\n",
       "      <td>NaN</td>\n",
       "      <td>NaN</td>\n",
       "      <td>NaN</td>\n",
       "      <td>NaN</td>\n",
       "    </tr>\n",
       "    <tr>\n",
       "      <th>50%</th>\n",
       "      <td>37061.500000</td>\n",
       "      <td>0.000000</td>\n",
       "      <td>NaN</td>\n",
       "      <td>NaN</td>\n",
       "      <td>369.000000</td>\n",
       "      <td>NaN</td>\n",
       "      <td>34.908743</td>\n",
       "      <td>-5.021597e+00</td>\n",
       "      <td>NaN</td>\n",
       "      <td>0.000000</td>\n",
       "      <td>NaN</td>\n",
       "      <td>NaN</td>\n",
       "      <td>NaN</td>\n",
       "      <td>12.000000</td>\n",
       "      <td>3.000000</td>\n",
       "      <td>NaN</td>\n",
       "      <td>NaN</td>\n",
       "      <td>25.000000</td>\n",
       "      <td>NaN</td>\n",
       "      <td>NaN</td>\n",
       "      <td>...</td>\n",
       "      <td>NaN</td>\n",
       "      <td>NaN</td>\n",
       "      <td>1986.000000</td>\n",
       "      <td>NaN</td>\n",
       "      <td>NaN</td>\n",
       "      <td>NaN</td>\n",
       "      <td>NaN</td>\n",
       "      <td>NaN</td>\n",
       "      <td>NaN</td>\n",
       "      <td>NaN</td>\n",
       "      <td>NaN</td>\n",
       "      <td>NaN</td>\n",
       "      <td>NaN</td>\n",
       "      <td>NaN</td>\n",
       "      <td>NaN</td>\n",
       "      <td>NaN</td>\n",
       "      <td>NaN</td>\n",
       "      <td>NaN</td>\n",
       "      <td>NaN</td>\n",
       "      <td>NaN</td>\n",
       "    </tr>\n",
       "    <tr>\n",
       "      <th>75%</th>\n",
       "      <td>55656.500000</td>\n",
       "      <td>20.000000</td>\n",
       "      <td>NaN</td>\n",
       "      <td>NaN</td>\n",
       "      <td>1319.250000</td>\n",
       "      <td>NaN</td>\n",
       "      <td>37.178387</td>\n",
       "      <td>-3.326156e+00</td>\n",
       "      <td>NaN</td>\n",
       "      <td>0.000000</td>\n",
       "      <td>NaN</td>\n",
       "      <td>NaN</td>\n",
       "      <td>NaN</td>\n",
       "      <td>17.000000</td>\n",
       "      <td>5.000000</td>\n",
       "      <td>NaN</td>\n",
       "      <td>NaN</td>\n",
       "      <td>215.000000</td>\n",
       "      <td>NaN</td>\n",
       "      <td>NaN</td>\n",
       "      <td>...</td>\n",
       "      <td>NaN</td>\n",
       "      <td>NaN</td>\n",
       "      <td>2004.000000</td>\n",
       "      <td>NaN</td>\n",
       "      <td>NaN</td>\n",
       "      <td>NaN</td>\n",
       "      <td>NaN</td>\n",
       "      <td>NaN</td>\n",
       "      <td>NaN</td>\n",
       "      <td>NaN</td>\n",
       "      <td>NaN</td>\n",
       "      <td>NaN</td>\n",
       "      <td>NaN</td>\n",
       "      <td>NaN</td>\n",
       "      <td>NaN</td>\n",
       "      <td>NaN</td>\n",
       "      <td>NaN</td>\n",
       "      <td>NaN</td>\n",
       "      <td>NaN</td>\n",
       "      <td>NaN</td>\n",
       "    </tr>\n",
       "    <tr>\n",
       "      <th>max</th>\n",
       "      <td>74247.000000</td>\n",
       "      <td>350000.000000</td>\n",
       "      <td>NaN</td>\n",
       "      <td>NaN</td>\n",
       "      <td>2770.000000</td>\n",
       "      <td>NaN</td>\n",
       "      <td>40.345193</td>\n",
       "      <td>-2.000000e-08</td>\n",
       "      <td>NaN</td>\n",
       "      <td>1776.000000</td>\n",
       "      <td>NaN</td>\n",
       "      <td>NaN</td>\n",
       "      <td>NaN</td>\n",
       "      <td>99.000000</td>\n",
       "      <td>80.000000</td>\n",
       "      <td>NaN</td>\n",
       "      <td>NaN</td>\n",
       "      <td>30500.000000</td>\n",
       "      <td>NaN</td>\n",
       "      <td>NaN</td>\n",
       "      <td>...</td>\n",
       "      <td>NaN</td>\n",
       "      <td>NaN</td>\n",
       "      <td>2013.000000</td>\n",
       "      <td>NaN</td>\n",
       "      <td>NaN</td>\n",
       "      <td>NaN</td>\n",
       "      <td>NaN</td>\n",
       "      <td>NaN</td>\n",
       "      <td>NaN</td>\n",
       "      <td>NaN</td>\n",
       "      <td>NaN</td>\n",
       "      <td>NaN</td>\n",
       "      <td>NaN</td>\n",
       "      <td>NaN</td>\n",
       "      <td>NaN</td>\n",
       "      <td>NaN</td>\n",
       "      <td>NaN</td>\n",
       "      <td>NaN</td>\n",
       "      <td>NaN</td>\n",
       "      <td>NaN</td>\n",
       "    </tr>\n",
       "  </tbody>\n",
       "</table>\n",
       "<p>11 rows × 41 columns</p>\n",
       "</div>"
      ],
      "text/plain": [
       "                  id     amount_tsh date_recorded                  funder  \\\n",
       "count   59400.000000   59400.000000         59400                   55765   \n",
       "unique           NaN            NaN           356                    1897   \n",
       "top              NaN            NaN    15/03/2011  Government Of Tanzania   \n",
       "freq             NaN            NaN           572                    9084   \n",
       "mean    37115.131768     317.650385           NaN                     NaN   \n",
       "std     21453.128371    2997.574558           NaN                     NaN   \n",
       "min         0.000000       0.000000           NaN                     NaN   \n",
       "25%     18519.750000       0.000000           NaN                     NaN   \n",
       "50%     37061.500000       0.000000           NaN                     NaN   \n",
       "75%     55656.500000      20.000000           NaN                     NaN   \n",
       "max     74247.000000  350000.000000           NaN                     NaN   \n",
       "\n",
       "          gps_height installer     longitude      latitude wpt_name  \\\n",
       "count   59400.000000     55745  59400.000000  5.940000e+04    59400   \n",
       "unique           NaN      2145           NaN           NaN    37400   \n",
       "top              NaN       DWE           NaN           NaN     none   \n",
       "freq             NaN     17402           NaN           NaN     3563   \n",
       "mean      668.297239       NaN     34.077427 -5.706033e+00      NaN   \n",
       "std       693.116350       NaN      6.567432  2.946019e+00      NaN   \n",
       "min       -90.000000       NaN      0.000000 -1.164944e+01      NaN   \n",
       "25%         0.000000       NaN     33.090347 -8.540621e+00      NaN   \n",
       "50%       369.000000       NaN     34.908743 -5.021597e+00      NaN   \n",
       "75%      1319.250000       NaN     37.178387 -3.326156e+00      NaN   \n",
       "max      2770.000000       NaN     40.345193 -2.000000e-08      NaN   \n",
       "\n",
       "         num_private          basin subvillage  region   region_code  \\\n",
       "count   59400.000000          59400      59029   59400  59400.000000   \n",
       "unique           NaN              9      19287      21           NaN   \n",
       "top              NaN  Lake Victoria   Madukani  Iringa           NaN   \n",
       "freq             NaN          10248        508    5294           NaN   \n",
       "mean        0.474141            NaN        NaN     NaN     15.297003   \n",
       "std        12.236230            NaN        NaN     NaN     17.587406   \n",
       "min         0.000000            NaN        NaN     NaN      1.000000   \n",
       "25%         0.000000            NaN        NaN     NaN      5.000000   \n",
       "50%         0.000000            NaN        NaN     NaN     12.000000   \n",
       "75%         0.000000            NaN        NaN     NaN     17.000000   \n",
       "max      1776.000000            NaN        NaN     NaN     99.000000   \n",
       "\n",
       "        district_code     lga   ward    population public_meeting  \\\n",
       "count    59400.000000   59400  59400  59400.000000          56066   \n",
       "unique            NaN     125   2092           NaN              2   \n",
       "top               NaN  Njombe  Igosi           NaN           True   \n",
       "freq              NaN    2503    307           NaN          51011   \n",
       "mean         5.629747     NaN    NaN    179.909983            NaN   \n",
       "std          9.633649     NaN    NaN    471.482176            NaN   \n",
       "min          0.000000     NaN    NaN      0.000000            NaN   \n",
       "25%          2.000000     NaN    NaN      0.000000            NaN   \n",
       "50%          3.000000     NaN    NaN     25.000000            NaN   \n",
       "75%          5.000000     NaN    NaN    215.000000            NaN   \n",
       "max         80.000000     NaN    NaN  30500.000000            NaN   \n",
       "\n",
       "                    recorded_by  ... scheme_name permit construction_year  \\\n",
       "count                     59400  ...       31234  56344      59400.000000   \n",
       "unique                        1  ...        2696      2               NaN   \n",
       "top     GeoData Consultants Ltd  ...           K   True               NaN   \n",
       "freq                      59400  ...         682  38852               NaN   \n",
       "mean                        NaN  ...         NaN    NaN       1300.652475   \n",
       "std                         NaN  ...         NaN    NaN        951.620547   \n",
       "min                         NaN  ...         NaN    NaN          0.000000   \n",
       "25%                         NaN  ...         NaN    NaN          0.000000   \n",
       "50%                         NaN  ...         NaN    NaN       1986.000000   \n",
       "75%                         NaN  ...         NaN    NaN       2004.000000   \n",
       "max                         NaN  ...         NaN    NaN       2013.000000   \n",
       "\n",
       "        extraction_type extraction_type_group extraction_type_class  \\\n",
       "count             59400                 59400                 59400   \n",
       "unique               18                    13                     7   \n",
       "top             gravity               gravity               gravity   \n",
       "freq              26780                 26780                 26780   \n",
       "mean                NaN                   NaN                   NaN   \n",
       "std                 NaN                   NaN                   NaN   \n",
       "min                 NaN                   NaN                   NaN   \n",
       "25%                 NaN                   NaN                   NaN   \n",
       "50%                 NaN                   NaN                   NaN   \n",
       "75%                 NaN                   NaN                   NaN   \n",
       "max                 NaN                   NaN                   NaN   \n",
       "\n",
       "       management management_group    payment payment_type water_quality  \\\n",
       "count       59400            59400      59400        59400         59400   \n",
       "unique         12                5          7            7             8   \n",
       "top           vwc       user-group  never pay    never pay          soft   \n",
       "freq        40507            52490      25348        25348         50818   \n",
       "mean          NaN              NaN        NaN          NaN           NaN   \n",
       "std           NaN              NaN        NaN          NaN           NaN   \n",
       "min           NaN              NaN        NaN          NaN           NaN   \n",
       "25%           NaN              NaN        NaN          NaN           NaN   \n",
       "50%           NaN              NaN        NaN          NaN           NaN   \n",
       "75%           NaN              NaN        NaN          NaN           NaN   \n",
       "max           NaN              NaN        NaN          NaN           NaN   \n",
       "\n",
       "       quality_group quantity quantity_group  source source_type source_class  \\\n",
       "count          59400    59400          59400   59400       59400        59400   \n",
       "unique             6        5              5      10           7            3   \n",
       "top             good   enough         enough  spring      spring  groundwater   \n",
       "freq           50818    33186          33186   17021       17021        45794   \n",
       "mean             NaN      NaN            NaN     NaN         NaN          NaN   \n",
       "std              NaN      NaN            NaN     NaN         NaN          NaN   \n",
       "min              NaN      NaN            NaN     NaN         NaN          NaN   \n",
       "25%              NaN      NaN            NaN     NaN         NaN          NaN   \n",
       "50%              NaN      NaN            NaN     NaN         NaN          NaN   \n",
       "75%              NaN      NaN            NaN     NaN         NaN          NaN   \n",
       "max              NaN      NaN            NaN     NaN         NaN          NaN   \n",
       "\n",
       "           waterpoint_type waterpoint_type_group status_group  \n",
       "count                59400                 59400        59400  \n",
       "unique                   7                     6            3  \n",
       "top     communal standpipe    communal standpipe   functional  \n",
       "freq                 28522                 34625        32259  \n",
       "mean                   NaN                   NaN          NaN  \n",
       "std                    NaN                   NaN          NaN  \n",
       "min                    NaN                   NaN          NaN  \n",
       "25%                    NaN                   NaN          NaN  \n",
       "50%                    NaN                   NaN          NaN  \n",
       "75%                    NaN                   NaN          NaN  \n",
       "max                    NaN                   NaN          NaN  \n",
       "\n",
       "[11 rows x 41 columns]"
      ]
     },
     "execution_count": 9,
     "metadata": {},
     "output_type": "execute_result"
    }
   ],
   "source": [
    "# Descriptive Statistics, including for non-numerical columns in our train data\n",
    "df.describe(include = \"all\")"
   ]
  },
  {
   "cell_type": "code",
   "execution_count": 10,
   "metadata": {},
   "outputs": [
    {
     "data": {
      "text/plain": [
       "amount_tsh               0.000000\n",
       "basin                    0.000000\n",
       "construction_year        0.000000\n",
       "date_recorded            0.000000\n",
       "district_code            0.000000\n",
       "extraction_type          0.000000\n",
       "extraction_type_class    0.000000\n",
       "extraction_type_group    0.000000\n",
       "funder                   0.061195\n",
       "gps_height               0.000000\n",
       "id                       0.000000\n",
       "installer                0.061532\n",
       "latitude                 0.000000\n",
       "lga                      0.000000\n",
       "longitude                0.000000\n",
       "management               0.000000\n",
       "management_group         0.000000\n",
       "num_private              0.000000\n",
       "payment                  0.000000\n",
       "payment_type             0.000000\n",
       "permit                   0.051448\n",
       "population               0.000000\n",
       "public_meeting           0.056128\n",
       "quality_group            0.000000\n",
       "quantity                 0.000000\n",
       "quantity_group           0.000000\n",
       "recorded_by              0.000000\n",
       "region                   0.000000\n",
       "region_code              0.000000\n",
       "scheme_management        0.065269\n",
       "scheme_name              0.474175\n",
       "source                   0.000000\n",
       "source_class             0.000000\n",
       "source_type              0.000000\n",
       "status_group             0.000000\n",
       "subvillage               0.006246\n",
       "ward                     0.000000\n",
       "water_quality            0.000000\n",
       "waterpoint_type          0.000000\n",
       "waterpoint_type_group    0.000000\n",
       "wpt_name                 0.000000\n",
       "dtype: float64"
      ]
     },
     "execution_count": 10,
     "metadata": {},
     "output_type": "execute_result"
    }
   ],
   "source": [
    "df.isnull().sum().sort_index()/len(df)"
   ]
  },
  {
   "cell_type": "markdown",
   "metadata": {},
   "source": [
    "## 4. Data Preperation"
   ]
  },
  {
   "cell_type": "markdown",
   "metadata": {},
   "source": [
    "### 4.1 Droping uneccessary columns"
   ]
  },
  {
   "cell_type": "code",
   "execution_count": 11,
   "metadata": {},
   "outputs": [
    {
     "data": {
      "text/plain": [
       "array(['GeoData Consultants Ltd'], dtype=object)"
      ]
     },
     "execution_count": 11,
     "metadata": {},
     "output_type": "execute_result"
    }
   ],
   "source": [
    "df['recorded_by'].unique()"
   ]
  },
  {
   "cell_type": "code",
   "execution_count": 12,
   "metadata": {},
   "outputs": [],
   "source": [
    "# Drop the recorded_by column since the entry is consistent all through\n",
    "df.drop(['recorded_by'], axis=1, inplace=True)"
   ]
  },
  {
   "cell_type": "code",
   "execution_count": 13,
   "metadata": {},
   "outputs": [],
   "source": [
    "# Drop columns with a very high distinct count of unique values, to avoid high cadinality in our dataframe.\n",
    "df.drop(['funder', 'installer', 'lga', 'scheme_name', 'subvillage', 'ward', 'wpt_name'], axis=1, inplace=True)"
   ]
  },
  {
   "cell_type": "markdown",
   "metadata": {},
   "source": [
    "### 4.2. Working on columns with Missing Values"
   ]
  },
  {
   "cell_type": "code",
   "execution_count": 14,
   "metadata": {
    "scrolled": false
   },
   "outputs": [
    {
     "data": {
      "text/plain": [
       "id                          0\n",
       "amount_tsh                  0\n",
       "date_recorded               0\n",
       "gps_height                  0\n",
       "longitude                   0\n",
       "latitude                    0\n",
       "num_private                 0\n",
       "basin                       0\n",
       "region                      0\n",
       "region_code                 0\n",
       "district_code               0\n",
       "population                  0\n",
       "public_meeting           3334\n",
       "scheme_management        3877\n",
       "permit                   3056\n",
       "construction_year           0\n",
       "extraction_type             0\n",
       "extraction_type_group       0\n",
       "extraction_type_class       0\n",
       "management                  0\n",
       "management_group            0\n",
       "payment                     0\n",
       "payment_type                0\n",
       "water_quality               0\n",
       "quality_group               0\n",
       "quantity                    0\n",
       "quantity_group              0\n",
       "source                      0\n",
       "source_type                 0\n",
       "source_class                0\n",
       "waterpoint_type             0\n",
       "waterpoint_type_group       0\n",
       "status_group                0\n",
       "dtype: int64"
      ]
     },
     "execution_count": 14,
     "metadata": {},
     "output_type": "execute_result"
    }
   ],
   "source": [
    "### Checking for missing values\n",
    "df.isnull().sum()"
   ]
  },
  {
   "cell_type": "markdown",
   "metadata": {},
   "source": [
    "##### Working on public_meeting column"
   ]
  },
  {
   "cell_type": "code",
   "execution_count": 15,
   "metadata": {},
   "outputs": [
    {
     "data": {
      "text/plain": [
       "True     51011\n",
       "False     5055\n",
       "Name: public_meeting, dtype: int64"
      ]
     },
     "execution_count": 15,
     "metadata": {},
     "output_type": "execute_result"
    }
   ],
   "source": [
    "df['public_meeting'].value_counts()"
   ]
  },
  {
   "cell_type": "code",
   "execution_count": 16,
   "metadata": {},
   "outputs": [],
   "source": [
    "# We replace all the entries with nan with the mode, which is True\n",
    "df['public_meeting'] = df['public_meeting'].fillna(False)"
   ]
  },
  {
   "cell_type": "markdown",
   "metadata": {},
   "source": [
    "##### Working on scheme_management column"
   ]
  },
  {
   "cell_type": "code",
   "execution_count": 17,
   "metadata": {},
   "outputs": [],
   "source": [
    "#Replacing the scheme_management column with the mode\n",
    "df['scheme_management'].fillna(df['scheme_management'].mode()[0], inplace=True)\n"
   ]
  },
  {
   "cell_type": "markdown",
   "metadata": {},
   "source": [
    "##### Working on Permit column"
   ]
  },
  {
   "cell_type": "code",
   "execution_count": 18,
   "metadata": {},
   "outputs": [
    {
     "data": {
      "text/plain": [
       "array([False,  True])"
      ]
     },
     "execution_count": 18,
     "metadata": {},
     "output_type": "execute_result"
    }
   ],
   "source": [
    "# Filling missing values in the permit column with the mode of the column \n",
    "df['permit'].fillna(df['permit'].mode()[0], inplace=True)\n",
    "df['permit'].unique()"
   ]
  },
  {
   "cell_type": "code",
   "execution_count": 19,
   "metadata": {},
   "outputs": [
    {
     "data": {
      "text/plain": [
       "id                       0\n",
       "amount_tsh               0\n",
       "date_recorded            0\n",
       "gps_height               0\n",
       "longitude                0\n",
       "latitude                 0\n",
       "num_private              0\n",
       "basin                    0\n",
       "region                   0\n",
       "region_code              0\n",
       "district_code            0\n",
       "population               0\n",
       "public_meeting           0\n",
       "scheme_management        0\n",
       "permit                   0\n",
       "construction_year        0\n",
       "extraction_type          0\n",
       "extraction_type_group    0\n",
       "extraction_type_class    0\n",
       "management               0\n",
       "management_group         0\n",
       "payment                  0\n",
       "payment_type             0\n",
       "water_quality            0\n",
       "quality_group            0\n",
       "quantity                 0\n",
       "quantity_group           0\n",
       "source                   0\n",
       "source_type              0\n",
       "source_class             0\n",
       "waterpoint_type          0\n",
       "waterpoint_type_group    0\n",
       "status_group             0\n",
       "dtype: int64"
      ]
     },
     "execution_count": 19,
     "metadata": {},
     "output_type": "execute_result"
    }
   ],
   "source": [
    "#checking if there are missing values\n",
    "df.isnull().sum()"
   ]
  },
  {
   "cell_type": "markdown",
   "metadata": {},
   "source": [
    "### 4.3 Feature Engineering"
   ]
  },
  {
   "cell_type": "markdown",
   "metadata": {},
   "source": [
    "##### Working on data_recorded column"
   ]
  },
  {
   "cell_type": "code",
   "execution_count": 20,
   "metadata": {},
   "outputs": [],
   "source": [
    "# Convert to date time data type\n",
    "df['date_recorded'] = pd.to_datetime(df['date_recorded'], errors = 'coerce')\n",
    "\n",
    "#Creating a column to of the month and year the record was taken\n",
    "\n",
    "df['month_recorded'] =  df['date_recorded'].dt.month #extracting the month of recording\n",
    "df['year_recorded'] =  df['date_recorded'].dt.year # extracting the year of recording\n",
    "df['date_recorded'] =  df['date_recorded'].dt.day # extracting the day of recording\n",
    "\n",
    "# Create a column for the season when the record was made, either dry or wet based on the seasons experienced in Tanzania\n",
    "# Wet Months = March,April,May,October,November December\n",
    "# Dry Months = January, February, June, July, August, September \n",
    "wet_months = [3, 4, 5, 10, 11, 12]\n",
    "dry_months = [1, 2, 6, 7, 8, 9]\n",
    "\n",
    "# Create a new column for the season\n",
    "df['season_recorded'] = df['month_recorded'].apply(lambda x: 'Wet' if x in wet_months else 'Dry' if x in dry_months else 'Unknown')\n",
    "df['season_recorded'].unique()\n",
    "\n",
    "# Drop the date_recorded column as it is nolonger as useful\n",
    "df.drop(['date_recorded'], axis=1, inplace=True)"
   ]
  },
  {
   "cell_type": "code",
   "execution_count": 21,
   "metadata": {},
   "outputs": [
    {
     "name": "stdout",
     "output_type": "stream",
     "text": [
      "<class 'pandas.core.frame.DataFrame'>\n",
      "Int64Index: 59400 entries, 0 to 59399\n",
      "Data columns (total 35 columns):\n",
      " #   Column                 Non-Null Count  Dtype  \n",
      "---  ------                 --------------  -----  \n",
      " 0   id                     59400 non-null  int64  \n",
      " 1   amount_tsh             59400 non-null  float64\n",
      " 2   gps_height             59400 non-null  int64  \n",
      " 3   longitude              59400 non-null  float64\n",
      " 4   latitude               59400 non-null  float64\n",
      " 5   num_private            59400 non-null  int64  \n",
      " 6   basin                  59400 non-null  object \n",
      " 7   region                 59400 non-null  object \n",
      " 8   region_code            59400 non-null  int64  \n",
      " 9   district_code          59400 non-null  int64  \n",
      " 10  population             59400 non-null  int64  \n",
      " 11  public_meeting         59400 non-null  bool   \n",
      " 12  scheme_management      59400 non-null  object \n",
      " 13  permit                 59400 non-null  bool   \n",
      " 14  construction_year      59400 non-null  int64  \n",
      " 15  extraction_type        59400 non-null  object \n",
      " 16  extraction_type_group  59400 non-null  object \n",
      " 17  extraction_type_class  59400 non-null  object \n",
      " 18  management             59400 non-null  object \n",
      " 19  management_group       59400 non-null  object \n",
      " 20  payment                59400 non-null  object \n",
      " 21  payment_type           59400 non-null  object \n",
      " 22  water_quality          59400 non-null  object \n",
      " 23  quality_group          59400 non-null  object \n",
      " 24  quantity               59400 non-null  object \n",
      " 25  quantity_group         59400 non-null  object \n",
      " 26  source                 59400 non-null  object \n",
      " 27  source_type            59400 non-null  object \n",
      " 28  source_class           59400 non-null  object \n",
      " 29  waterpoint_type        59400 non-null  object \n",
      " 30  waterpoint_type_group  59400 non-null  object \n",
      " 31  status_group           59400 non-null  object \n",
      " 32  month_recorded         59400 non-null  int64  \n",
      " 33  year_recorded          59400 non-null  int64  \n",
      " 34  season_recorded        59400 non-null  object \n",
      "dtypes: bool(2), float64(3), int64(9), object(21)\n",
      "memory usage: 15.5+ MB\n"
     ]
    }
   ],
   "source": [
    "df.info()"
   ]
  },
  {
   "cell_type": "markdown",
   "metadata": {},
   "source": [
    "##### Working on the district_code column"
   ]
  },
  {
   "cell_type": "code",
   "execution_count": 22,
   "metadata": {},
   "outputs": [
    {
     "data": {
      "text/plain": [
       "array([ 5,  2,  4, 63,  1,  8,  3,  6, 43,  7, 23, 33, 53, 62, 60, 30, 13,\n",
       "        0, 80, 67], dtype=int64)"
      ]
     },
     "execution_count": 22,
     "metadata": {},
     "output_type": "execute_result"
    }
   ],
   "source": [
    "df['district_code'].unique()"
   ]
  },
  {
   "cell_type": "code",
   "execution_count": 23,
   "metadata": {},
   "outputs": [
    {
     "data": {
      "text/plain": [
       "23"
      ]
     },
     "execution_count": 23,
     "metadata": {},
     "output_type": "execute_result"
    }
   ],
   "source": [
    "# Checking the number of rows where the district is  0\n",
    "count_0 = (df['district_code'] == 0).sum()\n",
    "count_0"
   ]
  },
  {
   "cell_type": "code",
   "execution_count": 24,
   "metadata": {},
   "outputs": [
    {
     "data": {
      "text/plain": [
       "1     12203\n",
       "2     11173\n",
       "3      9998\n",
       "4      8999\n",
       "5      4356\n",
       "6      4074\n",
       "7      3343\n",
       "8      1043\n",
       "30      995\n",
       "33      874\n",
       "53      745\n",
       "43      505\n",
       "13      391\n",
       "23      293\n",
       "63      195\n",
       "62      109\n",
       "60       63\n",
       "0        23\n",
       "80       12\n",
       "67        6\n",
       "Name: district_code, dtype: int64"
      ]
     },
     "execution_count": 24,
     "metadata": {},
     "output_type": "execute_result"
    }
   ],
   "source": [
    "df['district_code'].value_counts()"
   ]
  },
  {
   "cell_type": "code",
   "execution_count": 25,
   "metadata": {},
   "outputs": [
    {
     "data": {
      "text/plain": [
       "array([ 5,  2,  4, 63,  1,  8,  3,  6, 43,  7, 23, 33, 53, 62, 60, 30, 13,\n",
       "       80, 67], dtype=int64)"
      ]
     },
     "execution_count": 25,
     "metadata": {},
     "output_type": "execute_result"
    }
   ],
   "source": [
    "#Replacing the rows where the district code with 1 where the entry is 0\n",
    "df['district_code'] = df['district_code'].replace(0,1)\n",
    "df['district_code'].unique()"
   ]
  },
  {
   "cell_type": "markdown",
   "metadata": {},
   "source": [
    "##### Status_group column"
   ]
  },
  {
   "cell_type": "code",
   "execution_count": 26,
   "metadata": {},
   "outputs": [
    {
     "data": {
      "text/plain": [
       "array(['functional', 'non functional', 'functional needs repair'],\n",
       "      dtype=object)"
      ]
     },
     "execution_count": 26,
     "metadata": {},
     "output_type": "execute_result"
    }
   ],
   "source": [
    "df['status_group'].unique()"
   ]
  },
  {
   "cell_type": "code",
   "execution_count": 27,
   "metadata": {},
   "outputs": [
    {
     "data": {
      "text/plain": [
       "array([0, 1, 2], dtype=int64)"
      ]
     },
     "execution_count": 27,
     "metadata": {},
     "output_type": "execute_result"
    }
   ],
   "source": [
    "### Replacing the categories functional', 'non functional', 'functional needs repair' with 0,1,2 respectively\n",
    "\n",
    "df['status_group'] = df['status_group'].replace({\n",
    "    'functional': 0,\n",
    "    'non functional': 1,\n",
    "    'functional needs repair': 2\n",
    "})\n",
    "df['status_group'].unique()\n"
   ]
  },
  {
   "cell_type": "markdown",
   "metadata": {},
   "source": [
    "##### Working on the contruction_year column"
   ]
  },
  {
   "cell_type": "code",
   "execution_count": 28,
   "metadata": {},
   "outputs": [
    {
     "data": {
      "text/plain": [
       "1990    7931\n",
       "1985    5500\n",
       "1984    3849\n",
       "1982    3659\n",
       "1988    3445\n",
       "2010    2645\n",
       "2008    2616\n",
       "2009    2533\n",
       "2000    2106\n",
       "2007    1587\n",
       "2006    1586\n",
       "2003    1298\n",
       "2011    1256\n",
       "2004    1123\n",
       "2012    1084\n",
       "2002    1075\n",
       "1978    1037\n",
       "1995    1029\n",
       "2005    1011\n",
       "1999     981\n",
       "1998     967\n",
       "1980     811\n",
       "1996     811\n",
       "1994     738\n",
       "1972     708\n",
       "1974     676\n",
       "1997     658\n",
       "1992     640\n",
       "1993     608\n",
       "2001     540\n",
       "1983     488\n",
       "1986     477\n",
       "1975     437\n",
       "1976     414\n",
       "1970     411\n",
       "1989     364\n",
       "1991     324\n",
       "1987     302\n",
       "1981     238\n",
       "1977     202\n",
       "1979     192\n",
       "1973     184\n",
       "2013     176\n",
       "1971     145\n",
       "1960     102\n",
       "1967      88\n",
       "1963      85\n",
       "1968      77\n",
       "1969      59\n",
       "1964      40\n",
       "1962      30\n",
       "1961      21\n",
       "1965      19\n",
       "1966      17\n",
       "Name: construction_year, dtype: int64"
      ]
     },
     "execution_count": 28,
     "metadata": {},
     "output_type": "execute_result"
    }
   ],
   "source": [
    "## we impute the longitude where it has been recorded as 0 with the median construction year per district then per region\n",
    "df['construction_year'] = df.groupby('district_code')['construction_year'].apply(lambda x: x.replace(0,int(x.median())))\n",
    "df['construction_year'] = df.groupby('region')['construction_year'].apply(lambda x: x.replace(0, int(x.median())))\n",
    "df['construction_year'].value_counts()"
   ]
  },
  {
   "cell_type": "markdown",
   "metadata": {},
   "source": [
    "##### Working on the gps_height column"
   ]
  },
  {
   "cell_type": "code",
   "execution_count": 29,
   "metadata": {},
   "outputs": [
    {
     "data": {
      "text/plain": [
       "1990    7931\n",
       "1985    5500\n",
       "1984    3849\n",
       "1982    3659\n",
       "1988    3445\n",
       "2010    2645\n",
       "2008    2616\n",
       "2009    2533\n",
       "2000    2106\n",
       "2007    1587\n",
       "2006    1586\n",
       "2003    1298\n",
       "2011    1256\n",
       "2004    1123\n",
       "2012    1084\n",
       "2002    1075\n",
       "1978    1037\n",
       "1995    1029\n",
       "2005    1011\n",
       "1999     981\n",
       "1998     967\n",
       "1980     811\n",
       "1996     811\n",
       "1994     738\n",
       "1972     708\n",
       "1974     676\n",
       "1997     658\n",
       "1992     640\n",
       "1993     608\n",
       "2001     540\n",
       "1983     488\n",
       "1986     477\n",
       "1975     437\n",
       "1976     414\n",
       "1970     411\n",
       "1989     364\n",
       "1991     324\n",
       "1987     302\n",
       "1981     238\n",
       "1977     202\n",
       "1979     192\n",
       "1973     184\n",
       "2013     176\n",
       "1971     145\n",
       "1960     102\n",
       "1967      88\n",
       "1963      85\n",
       "1968      77\n",
       "1969      59\n",
       "1964      40\n",
       "1962      30\n",
       "1961      21\n",
       "1965      19\n",
       "1966      17\n",
       "Name: gps_height, dtype: int64"
      ]
     },
     "execution_count": 29,
     "metadata": {},
     "output_type": "execute_result"
    }
   ],
   "source": [
    "## we impute the gps_height where it has been recorded as 0 with the mean construction year per district then per region\n",
    "df['gps_height'] = df.groupby('district_code')['construction_year'].apply(lambda x: x.replace(0, x.mean()))\n",
    "df['gps_height'] = df.groupby('region')['construction_year'].apply(lambda x: x.replace(0, x.mean()))\n",
    "df['gps_height'].value_counts()"
   ]
  },
  {
   "cell_type": "markdown",
   "metadata": {
    "scrolled": true
   },
   "source": [
    "##### Working on the longitude column"
   ]
  },
  {
   "cell_type": "code",
   "execution_count": 30,
   "metadata": {},
   "outputs": [
    {
     "data": {
      "text/plain": [
       "1990    7931\n",
       "1985    5500\n",
       "1984    3849\n",
       "1982    3659\n",
       "1988    3445\n",
       "2010    2645\n",
       "2008    2616\n",
       "2009    2533\n",
       "2000    2106\n",
       "2007    1587\n",
       "2006    1586\n",
       "2003    1298\n",
       "2011    1256\n",
       "2004    1123\n",
       "2012    1084\n",
       "2002    1075\n",
       "1978    1037\n",
       "1995    1029\n",
       "2005    1011\n",
       "1999     981\n",
       "1998     967\n",
       "1980     811\n",
       "1996     811\n",
       "1994     738\n",
       "1972     708\n",
       "1974     676\n",
       "1997     658\n",
       "1992     640\n",
       "1993     608\n",
       "2001     540\n",
       "1983     488\n",
       "1986     477\n",
       "1975     437\n",
       "1976     414\n",
       "1970     411\n",
       "1989     364\n",
       "1991     324\n",
       "1987     302\n",
       "1981     238\n",
       "1977     202\n",
       "1979     192\n",
       "1973     184\n",
       "2013     176\n",
       "1971     145\n",
       "1960     102\n",
       "1967      88\n",
       "1963      85\n",
       "1968      77\n",
       "1969      59\n",
       "1964      40\n",
       "1962      30\n",
       "1961      21\n",
       "1965      19\n",
       "1966      17\n",
       "Name: longitude, dtype: int64"
      ]
     },
     "execution_count": 30,
     "metadata": {},
     "output_type": "execute_result"
    }
   ],
   "source": [
    "## we impute the longitude where it has been recorded as 0 with the median construction year per district then per region\n",
    "df['longitude'] = df.groupby('district_code')['construction_year'].apply(lambda x: x.replace(0, x.median()))\n",
    "df['longitude'] = df.groupby('region')['construction_year'].apply(lambda x: x.replace(0, x.median()))\n",
    "df['longitude'].value_counts()"
   ]
  },
  {
   "cell_type": "code",
   "execution_count": 31,
   "metadata": {},
   "outputs": [
    {
     "name": "stdout",
     "output_type": "stream",
     "text": [
      "<class 'pandas.core.frame.DataFrame'>\n",
      "Int64Index: 59400 entries, 0 to 59399\n",
      "Data columns (total 35 columns):\n",
      " #   Column                 Non-Null Count  Dtype  \n",
      "---  ------                 --------------  -----  \n",
      " 0   id                     59400 non-null  int64  \n",
      " 1   amount_tsh             59400 non-null  float64\n",
      " 2   gps_height             59400 non-null  int64  \n",
      " 3   longitude              59400 non-null  int64  \n",
      " 4   latitude               59400 non-null  float64\n",
      " 5   num_private            59400 non-null  int64  \n",
      " 6   basin                  59400 non-null  object \n",
      " 7   region                 59400 non-null  object \n",
      " 8   region_code            59400 non-null  int64  \n",
      " 9   district_code          59400 non-null  int64  \n",
      " 10  population             59400 non-null  int64  \n",
      " 11  public_meeting         59400 non-null  bool   \n",
      " 12  scheme_management      59400 non-null  object \n",
      " 13  permit                 59400 non-null  bool   \n",
      " 14  construction_year      59400 non-null  int64  \n",
      " 15  extraction_type        59400 non-null  object \n",
      " 16  extraction_type_group  59400 non-null  object \n",
      " 17  extraction_type_class  59400 non-null  object \n",
      " 18  management             59400 non-null  object \n",
      " 19  management_group       59400 non-null  object \n",
      " 20  payment                59400 non-null  object \n",
      " 21  payment_type           59400 non-null  object \n",
      " 22  water_quality          59400 non-null  object \n",
      " 23  quality_group          59400 non-null  object \n",
      " 24  quantity               59400 non-null  object \n",
      " 25  quantity_group         59400 non-null  object \n",
      " 26  source                 59400 non-null  object \n",
      " 27  source_type            59400 non-null  object \n",
      " 28  source_class           59400 non-null  object \n",
      " 29  waterpoint_type        59400 non-null  object \n",
      " 30  waterpoint_type_group  59400 non-null  object \n",
      " 31  status_group           59400 non-null  int64  \n",
      " 32  month_recorded         59400 non-null  int64  \n",
      " 33  year_recorded          59400 non-null  int64  \n",
      " 34  season_recorded        59400 non-null  object \n",
      "dtypes: bool(2), float64(2), int64(11), object(20)\n",
      "memory usage: 15.5+ MB\n"
     ]
    }
   ],
   "source": [
    "df.info()"
   ]
  },
  {
   "cell_type": "markdown",
   "metadata": {},
   "source": [
    "## 5. Data Visualization"
   ]
  },
  {
   "cell_type": "code",
   "execution_count": 32,
   "metadata": {},
   "outputs": [
    {
     "data": {
      "text/plain": [
       "Index(['id', 'amount_tsh', 'gps_height', 'longitude', 'latitude',\n",
       "       'num_private', 'basin', 'region', 'region_code', 'district_code',\n",
       "       'population', 'public_meeting', 'scheme_management', 'permit',\n",
       "       'construction_year', 'extraction_type', 'extraction_type_group',\n",
       "       'extraction_type_class', 'management', 'management_group', 'payment',\n",
       "       'payment_type', 'water_quality', 'quality_group', 'quantity',\n",
       "       'quantity_group', 'source', 'source_type', 'source_class',\n",
       "       'waterpoint_type', 'waterpoint_type_group', 'status_group',\n",
       "       'month_recorded', 'year_recorded', 'season_recorded'],\n",
       "      dtype='object')"
      ]
     },
     "execution_count": 32,
     "metadata": {},
     "output_type": "execute_result"
    }
   ],
   "source": [
    "df.columns"
   ]
  },
  {
   "cell_type": "code",
   "execution_count": 33,
   "metadata": {},
   "outputs": [
    {
     "data": {
      "text/plain": [
       "status_group         1.000000\n",
       "region_code          0.083590\n",
       "year_recorded        0.043088\n",
       "district_code        0.034005\n",
       "latitude             0.021020\n",
       "month_recorded       0.009637\n",
       "id                   0.003354\n",
       "num_private         -0.006159\n",
       "population          -0.015198\n",
       "permit              -0.029597\n",
       "amount_tsh          -0.043533\n",
       "public_meeting      -0.053355\n",
       "gps_height          -0.187401\n",
       "longitude           -0.187401\n",
       "construction_year   -0.187401\n",
       "Name: status_group, dtype: float64"
      ]
     },
     "execution_count": 33,
     "metadata": {},
     "output_type": "execute_result"
    }
   ],
   "source": [
    "# Correlation of the target and features of our dataset\n",
    "df.corr()['status_group'].sort_values(ascending = False)\n"
   ]
  },
  {
   "cell_type": "markdown",
   "metadata": {},
   "source": [
    "### Correlation Matrix (Heatmap)"
   ]
  },
  {
   "cell_type": "code",
   "execution_count": 34,
   "metadata": {},
   "outputs": [
    {
     "data": {
      "image/png": "[encoded data removed]",
      "text/plain": [
       "<Figure size 1440x1080 with 2 Axes>"
      ]
     },
     "metadata": {
      "needs_background": "light"
     },
     "output_type": "display_data"
    }
   ],
   "source": [
    "#correlation heatmap of numerical features\n",
    "plt.figure(figsize = (20,15))\n",
    "sns.heatmap(df.corr(), annot = True,cmap='coolwarm', fmt=\".2f\");"
   ]
  },
  {
   "cell_type": "markdown",
   "metadata": {},
   "source": [
    "Despite the low correlation among the features and target, the gps_height and region have the highest correlation, We also observe a strong correlation between region_code and district_code."
   ]
  },
  {
   "cell_type": "code",
   "execution_count": null,
   "metadata": {
    "scrolled": true,
    "tags": []
   },
   "outputs": [],
   "source": []
  },
  {
   "cell_type": "code",
   "execution_count": 35,
   "metadata": {},
   "outputs": [],
   "source": [
    "#we drop the region_code column due to the possiblity of high multicoliniariy with the district_code column\n",
    "df.drop(['region_code'], axis=1, inplace=True)"
   ]
  },
  {
   "cell_type": "code",
   "execution_count": null,
   "metadata": {},
   "outputs": [],
   "source": []
  },
  {
   "cell_type": "markdown",
   "metadata": {
    "tags": []
   },
   "source": [
    "###  Distribution of amount_tsh"
   ]
  },
  {
   "cell_type": "code",
   "execution_count": 36,
   "metadata": {
    "scrolled": false,
    "tags": []
   },
   "outputs": [
    {
     "data": {
      "image/png": "[encoded data removed]",
      "text/plain": [
       "<Figure size 1440x864 with 1 Axes>"
      ]
     },
     "metadata": {
      "needs_background": "light"
     },
     "output_type": "display_data"
    }
   ],
   "source": [
    "plt.figure(figsize=(20, 12))\n",
    "plt.hist(df['amount_tsh'], bins = 50, edgecolor =  'black')\n",
    "plt.title('Distribution of amount water available to waterpoint in Tsh', fontsize = 16)\n",
    "plt.xlabel('Amount in Tsh', fontsize = 14)\n",
    "plt.ylabel('Frequency', fontsize = 14)\n",
    "plt.show;"
   ]
  },
  {
   "cell_type": "markdown",
   "metadata": {},
   "source": [
    "The Distribution of amount water available to waterpoint in Tsh is negatively skewed."
   ]
  },
  {
   "cell_type": "code",
   "execution_count": 37,
   "metadata": {},
   "outputs": [
    {
     "data": {
      "text/plain": [
       "0    32259\n",
       "1    22824\n",
       "2     4317\n",
       "Name: status_group, dtype: int64"
      ]
     },
     "execution_count": 37,
     "metadata": {},
     "output_type": "execute_result"
    }
   ],
   "source": [
    "df['status_group'].value_counts()"
   ]
  },
  {
   "cell_type": "markdown",
   "metadata": {},
   "source": [
    "###  Distribution of status group"
   ]
  },
  {
   "cell_type": "code",
   "execution_count": 38,
   "metadata": {},
   "outputs": [
    {
     "data": {
      "image/png": "[encoded data removed]",
      "text/plain": [
       "<Figure size 864x432 with 1 Axes>"
      ]
     },
     "metadata": {
      "needs_background": "light"
     },
     "output_type": "display_data"
    }
   ],
   "source": [
    "key = {\n",
    "    'functional': 0,\n",
    "    'non functional': 1,\n",
    "    'functional needs repair': 2\n",
    "}\n",
    "plt.figure(figsize=(12, 6))\n",
    "ax = sns.countplot(data=df, x='status_group')\n",
    "\n",
    "\n",
    "plt.xlabel('Status Group')\n",
    "plt.ylabel('Number of water pumps')\n",
    "\n",
    "plt.title('Distribution of Water pumps as per Status Group')\n",
    "legend_labels = list(key.keys())\n",
    "legend_handles = [plt.Line2D([0], [0], marker='o', color='w', label = label, \n",
    "                             markerfacecolor=sns.color_palette()[key[label]], markersize=10) for label in legend_labels]\n",
    "plt.legend(handles=legend_handles, labels=legend_labels, loc='upper right')\n",
    "\n",
    "plt.show();\n"
   ]
  },
  {
   "cell_type": "markdown",
   "metadata": {},
   "source": [
    "### Distribution of water pumps among districts"
   ]
  },
  {
   "cell_type": "code",
   "execution_count": 39,
   "metadata": {
    "scrolled": false
   },
   "outputs": [
    {
     "data": {
      "image/png": "[encoded data removed]",
      "text/plain": [
       "<Figure size 1008x504 with 1 Axes>"
      ]
     },
     "metadata": {
      "needs_background": "light"
     },
     "output_type": "display_data"
    }
   ],
   "source": [
    "df_region = df['region'].value_counts()\n",
    "\n",
    "plt.figure(figsize=(14, 7))\n",
    "df_region.plot(kind='bar', color='skyblue')\n",
    "plt.title('Histogram of Region Counts')\n",
    "plt.xlabel('Region')\n",
    "plt.ylabel('Counts')\n",
    "plt.xticks(rotation=45)\n",
    "plt.show();"
   ]
  },
  {
   "cell_type": "markdown",
   "metadata": {},
   "source": [
    "###  Distribution of water pump status based on the region"
   ]
  },
  {
   "cell_type": "code",
   "execution_count": 40,
   "metadata": {},
   "outputs": [
    {
     "data": {
      "image/png": "[encoded data removed]",
      "text/plain": [
       "<Figure size 1152x720 with 1 Axes>"
      ]
     },
     "metadata": {
      "needs_background": "light"
     },
     "output_type": "display_data"
    }
   ],
   "source": [
    "# Group by 'region' and 'status_group', then count occurrences\n",
    "df_grouped = df.groupby(['region', 'status_group']).size().unstack(fill_value=0)\n",
    "\n",
    "# Renaming the columns of our grouped df\n",
    "df_grouped = df_grouped.rename(columns={\n",
    "    0: 'functional',\n",
    "    1: 'non functional',\n",
    "    2:'functional needs repair'\n",
    "})\n",
    "# Plotting the grouped barchart\n",
    "df_grouped.plot(kind='bar', figsize=(16, 10), stacked=False)\n",
    "plt.title('Water Pump Status by Region')\n",
    "plt.xlabel('Region')\n",
    "plt.ylabel('Counts')\n",
    "plt.xticks(rotation=45)\n",
    "plt.legend(title='Status Group')\n",
    "plt.show()\n"
   ]
  },
  {
   "cell_type": "markdown",
   "metadata": {},
   "source": [
    "### Distribution of water quality"
   ]
  },
  {
   "cell_type": "code",
   "execution_count": 41,
   "metadata": {},
   "outputs": [
    {
     "data": {
      "image/png": "[encoded data removed]",
      "text/plain": [
       "<Figure size 1008x504 with 1 Axes>"
      ]
     },
     "metadata": {
      "needs_background": "light"
     },
     "output_type": "display_data"
    }
   ],
   "source": [
    "df_water_quality = df['water_quality'].value_counts()\n",
    "\n",
    "plt.figure(figsize=(14, 7))\n",
    "df_water_quality.plot(kind='bar', color='lightblue')\n",
    "plt.title('Histogram of Water Quality')\n",
    "plt.xlabel('Region')\n",
    "plt.ylabel('Counts')\n",
    "plt.xticks(rotation=45)\n",
    "plt.show();"
   ]
  },
  {
   "cell_type": "markdown",
   "metadata": {},
   "source": [
    "### Distribution of Pump status and Water Quality Group"
   ]
  },
  {
   "cell_type": "code",
   "execution_count": 42,
   "metadata": {},
   "outputs": [
    {
     "data": {
      "image/png": "[encoded data removed]",
      "text/plain": [
       "<Figure size 1152x720 with 1 Axes>"
      ]
     },
     "metadata": {
      "needs_background": "light"
     },
     "output_type": "display_data"
    }
   ],
   "source": [
    "# Group by 'water quantity' and 'status_group', then count occurrences\n",
    "df_grouped = df.groupby(['water_quality', 'status_group']).size().unstack(fill_value=0)\n",
    "\n",
    "# Renaming the columns of our grouped df\n",
    "df_grouped = df_grouped.rename(columns={\n",
    "    0: 'functional',\n",
    "    1: 'non functional',\n",
    "    2:'functional needs repair'\n",
    "})\n",
    "# Plotting the grouped barchart\n",
    "df_grouped.plot(kind='bar', figsize=(16, 10), stacked=False)\n",
    "plt.title('Water Pump Status by Water Quantity')\n",
    "plt.xlabel('Water Quantity')\n",
    "plt.ylabel('Counts')\n",
    "plt.xticks(rotation=45)\n",
    "plt.legend(title='Status Group')\n",
    "plt.show()"
   ]
  },
  {
   "cell_type": "code",
   "execution_count": null,
   "metadata": {},
   "outputs": [],
   "source": []
  },
  {
   "cell_type": "markdown",
   "metadata": {},
   "source": [
    "### Distribution of Pump status and Water Quantity Group"
   ]
  },
  {
   "cell_type": "code",
   "execution_count": 43,
   "metadata": {},
   "outputs": [
    {
     "data": {
      "text/plain": [
       "array(['enough', 'insufficient', 'dry', 'seasonal', 'unknown'],\n",
       "      dtype=object)"
      ]
     },
     "execution_count": 43,
     "metadata": {},
     "output_type": "execute_result"
    }
   ],
   "source": [
    "df['quantity_group'].unique()"
   ]
  },
  {
   "cell_type": "code",
   "execution_count": 44,
   "metadata": {
    "scrolled": false
   },
   "outputs": [
    {
     "data": {
      "image/png": "[encoded data removed]",
      "text/plain": [
       "<Figure size 1152x720 with 1 Axes>"
      ]
     },
     "metadata": {
      "needs_background": "light"
     },
     "output_type": "display_data"
    }
   ],
   "source": [
    "# Group by 'water quantity' and 'status_group', then count occurrences\n",
    "df_grouped = df.groupby(['quantity_group', 'status_group']).size().unstack(fill_value=0)\n",
    "\n",
    "# Renaming the columns of our grouped df\n",
    "df_grouped = df_grouped.rename(columns={\n",
    "    0: 'functional',\n",
    "    1: 'non functional',\n",
    "    2:'functional needs repair'\n",
    "})\n",
    "# Plotting the grouped barchart\n",
    "df_grouped.plot(kind='bar', figsize=(16, 10), stacked=False)\n",
    "plt.title('Water Pump Status by Water Quantity')\n",
    "plt.xlabel('Water Quantity')\n",
    "plt.ylabel('Counts')\n",
    "plt.xticks(rotation=45)\n",
    "plt.legend(title='Status Group')\n",
    "plt.show()\n"
   ]
  },
  {
   "cell_type": "markdown",
   "metadata": {},
   "source": [
    "## 6. Data Modeling"
   ]
  },
  {
   "cell_type": "code",
   "execution_count": 45,
   "metadata": {},
   "outputs": [
    {
     "data": {
      "text/plain": [
       "['basin',\n",
       " 'region',\n",
       " 'public_meeting',\n",
       " 'scheme_management',\n",
       " 'permit',\n",
       " 'extraction_type',\n",
       " 'extraction_type_group',\n",
       " 'extraction_type_class',\n",
       " 'management',\n",
       " 'management_group',\n",
       " 'payment',\n",
       " 'payment_type',\n",
       " 'water_quality',\n",
       " 'quality_group',\n",
       " 'quantity',\n",
       " 'quantity_group',\n",
       " 'source',\n",
       " 'source_type',\n",
       " 'source_class',\n",
       " 'waterpoint_type',\n",
       " 'waterpoint_type_group',\n",
       " 'season_recorded']"
      ]
     },
     "execution_count": 45,
     "metadata": {},
     "output_type": "execute_result"
    }
   ],
   "source": [
    "# Creating dummy variables for our categorical variables\n",
    "\n",
    "cols = df.select_dtypes(exclude=[np.number])\n",
    "list(cols)"
   ]
  },
  {
   "cell_type": "code",
   "execution_count": 46,
   "metadata": {},
   "outputs": [
    {
     "name": "stdout",
     "output_type": "stream",
     "text": [
      "<class 'pandas.core.frame.DataFrame'>\n",
      "Int64Index: 59400 entries, 0 to 59399\n",
      "Columns: 164 entries, id to season_recorded_Wet\n",
      "dtypes: float64(2), int64(10), uint8(152)\n",
      "memory usage: 16.5 MB\n"
     ]
    }
   ],
   "source": [
    "#Creating Dummy variables for our categorical data\n",
    "\n",
    "columns_create_dummies = ['basin',\n",
    " 'region',\n",
    " 'public_meeting',\n",
    " 'scheme_management',\n",
    " 'permit',\n",
    " 'extraction_type',\n",
    " 'extraction_type_group',\n",
    " 'extraction_type_class',\n",
    " 'management',\n",
    " 'management_group',\n",
    " 'payment',\n",
    " 'payment_type',\n",
    " 'water_quality',\n",
    " 'quality_group',\n",
    " 'quantity',\n",
    " 'quantity_group',\n",
    " 'source',\n",
    " 'source_type',\n",
    " 'source_class',\n",
    " 'waterpoint_type',\n",
    " 'waterpoint_type_group',\n",
    " 'season_recorded']\n",
    "\n",
    "for column in columns_create_dummies:\n",
    "    df = pd.get_dummies(df, columns=[column], drop_first=True)\n",
    "    \n",
    "df.info()"
   ]
  },
  {
   "cell_type": "markdown",
   "metadata": {},
   "source": [
    "### Simple Linear Regression"
   ]
  },
  {
   "cell_type": "code",
   "execution_count": 47,
   "metadata": {},
   "outputs": [],
   "source": [
    "#Defining our target and feature variables\n",
    "y = df['status_group']\n",
    "X = df['gps_height'] \n",
    "\n",
    "# Create an OLS model\n",
    "lin_model = sm.OLS(endog = y, exog = sm.add_constant(X))\n",
    "results = lin_model.fit()"
   ]
  },
  {
   "cell_type": "code",
   "execution_count": 50,
   "metadata": {},
   "outputs": [
    {
     "data": {
      "text/html": [
       "<table class=\"simpletable\">\n",
       "<caption>OLS Regression Results</caption>\n",
       "<tr>\n",
       "  <th>Dep. Variable:</th>      <td>status_group</td>   <th>  R-squared:         </th> <td>   0.035</td> \n",
       "</tr>\n",
       "<tr>\n",
       "  <th>Model:</th>                   <td>OLS</td>       <th>  Adj. R-squared:    </th> <td>   0.035</td> \n",
       "</tr>\n",
       "<tr>\n",
       "  <th>Method:</th>             <td>Least Squares</td>  <th>  F-statistic:       </th> <td>   2162.</td> \n",
       "</tr>\n",
       "<tr>\n",
       "  <th>Date:</th>             <td>Thu, 23 May 2024</td> <th>  Prob (F-statistic):</th>  <td>  0.00</td>  \n",
       "</tr>\n",
       "<tr>\n",
       "  <th>Time:</th>                 <td>00:58:23</td>     <th>  Log-Likelihood:    </th> <td> -55596.</td> \n",
       "</tr>\n",
       "<tr>\n",
       "  <th>No. Observations:</th>      <td> 59400</td>      <th>  AIC:               </th> <td>1.112e+05</td>\n",
       "</tr>\n",
       "<tr>\n",
       "  <th>Df Residuals:</th>          <td> 59398</td>      <th>  BIC:               </th> <td>1.112e+05</td>\n",
       "</tr>\n",
       "<tr>\n",
       "  <th>Df Model:</th>              <td>     1</td>      <th>                     </th>     <td> </td>    \n",
       "</tr>\n",
       "<tr>\n",
       "  <th>Covariance Type:</th>      <td>nonrobust</td>    <th>                     </th>     <td> </td>    \n",
       "</tr>\n",
       "</table>\n",
       "<table class=\"simpletable\">\n",
       "<tr>\n",
       "       <td></td>         <th>coef</th>     <th>std err</th>      <th>t</th>      <th>P>|t|</th>  <th>[0.025</th>    <th>0.975]</th>  \n",
       "</tr>\n",
       "<tr>\n",
       "  <th>const</th>      <td>   21.2297</td> <td>    0.445</td> <td>   47.685</td> <td> 0.000</td> <td>   20.357</td> <td>   22.102</td>\n",
       "</tr>\n",
       "<tr>\n",
       "  <th>gps_height</th> <td>   -0.0104</td> <td>    0.000</td> <td>  -46.497</td> <td> 0.000</td> <td>   -0.011</td> <td>   -0.010</td>\n",
       "</tr>\n",
       "</table>\n",
       "<table class=\"simpletable\">\n",
       "<tr>\n",
       "  <th>Omnibus:</th>       <td>5033.785</td> <th>  Durbin-Watson:     </th> <td>   2.001</td>\n",
       "</tr>\n",
       "<tr>\n",
       "  <th>Prob(Omnibus):</th>  <td> 0.000</td>  <th>  Jarque-Bera (JB):  </th> <td>6364.312</td>\n",
       "</tr>\n",
       "<tr>\n",
       "  <th>Skew:</th>           <td> 0.796</td>  <th>  Prob(JB):          </th> <td>    0.00</td>\n",
       "</tr>\n",
       "<tr>\n",
       "  <th>Kurtosis:</th>       <td> 2.810</td>  <th>  Cond. No.          </th> <td>3.51e+05</td>\n",
       "</tr>\n",
       "</table><br/><br/>Notes:<br/>[1] Standard Errors assume that the covariance matrix of the errors is correctly specified.<br/>[2] The condition number is large, 3.51e+05. This might indicate that there are<br/>strong multicollinearity or other numerical problems."
      ],
      "text/plain": [
       "<class 'statsmodels.iolib.summary.Summary'>\n",
       "\"\"\"\n",
       "                            OLS Regression Results                            \n",
       "==============================================================================\n",
       "Dep. Variable:           status_group   R-squared:                       0.035\n",
       "Model:                            OLS   Adj. R-squared:                  0.035\n",
       "Method:                 Least Squares   F-statistic:                     2162.\n",
       "Date:                Thu, 23 May 2024   Prob (F-statistic):               0.00\n",
       "Time:                        00:58:23   Log-Likelihood:                -55596.\n",
       "No. Observations:               59400   AIC:                         1.112e+05\n",
       "Df Residuals:                   59398   BIC:                         1.112e+05\n",
       "Df Model:                           1                                         \n",
       "Covariance Type:            nonrobust                                         \n",
       "==============================================================================\n",
       "                 coef    std err          t      P>|t|      [0.025      0.975]\n",
       "------------------------------------------------------------------------------\n",
       "const         21.2297      0.445     47.685      0.000      20.357      22.102\n",
       "gps_height    -0.0104      0.000    -46.497      0.000      -0.011      -0.010\n",
       "==============================================================================\n",
       "Omnibus:                     5033.785   Durbin-Watson:                   2.001\n",
       "Prob(Omnibus):                  0.000   Jarque-Bera (JB):             6364.312\n",
       "Skew:                           0.796   Prob(JB):                         0.00\n",
       "Kurtosis:                       2.810   Cond. No.                     3.51e+05\n",
       "==============================================================================\n",
       "\n",
       "Notes:\n",
       "[1] Standard Errors assume that the covariance matrix of the errors is correctly specified.\n",
       "[2] The condition number is large, 3.51e+05. This might indicate that there are\n",
       "strong multicollinearity or other numerical problems.\n",
       "\"\"\""
      ]
     },
     "execution_count": 50,
     "metadata": {},
     "output_type": "execute_result"
    }
   ],
   "source": [
    "results.summary()"
   ]
  },
  {
   "cell_type": "code",
   "execution_count": 51,
   "metadata": {},
   "outputs": [
    {
     "data": {
      "text/plain": [
       "Index(['id', 'amount_tsh', 'gps_height', 'longitude', 'latitude',\n",
       "       'num_private', 'district_code', 'population', 'construction_year',\n",
       "       'status_group',\n",
       "       ...\n",
       "       'waterpoint_type_dam', 'waterpoint_type_hand pump',\n",
       "       'waterpoint_type_improved spring', 'waterpoint_type_other',\n",
       "       'waterpoint_type_group_communal standpipe', 'waterpoint_type_group_dam',\n",
       "       'waterpoint_type_group_hand pump',\n",
       "       'waterpoint_type_group_improved spring', 'waterpoint_type_group_other',\n",
       "       'season_recorded_Wet'],\n",
       "      dtype='object', length=164)"
      ]
     },
     "execution_count": 51,
     "metadata": {},
     "output_type": "execute_result"
    }
   ],
   "source": [
    "df.columns"
   ]
  },
  {
   "cell_type": "markdown",
   "metadata": {},
   "source": [
    "### Multiple Linear Regression"
   ]
  },
  {
   "cell_type": "markdown",
   "metadata": {},
   "source": [
    "#### Defining our target and feature variables"
   ]
  },
  {
   "cell_type": "code",
   "execution_count": 53,
   "metadata": {},
   "outputs": [],
   "source": [
    "X = df.drop(columns = ['id', 'status_group'])\n",
    "y = df['status_group']"
   ]
  },
  {
   "cell_type": "markdown",
   "metadata": {},
   "source": [
    "#### Creating our train and test dataframes"
   ]
  },
  {
   "cell_type": "code",
   "execution_count": 54,
   "metadata": {},
   "outputs": [],
   "source": [
    "X_train, X_test, y_train, y_test = train_test_split(X, y, test_size=0.20, random_state=42)"
   ]
  },
  {
   "cell_type": "markdown",
   "metadata": {},
   "source": [
    "#### Scaling the numerical features"
   ]
  },
  {
   "cell_type": "code",
   "execution_count": 55,
   "metadata": {},
   "outputs": [],
   "source": [
    "scaler = StandardScaler()\n",
    "X_train = scaler.fit_transform(X_train)\n",
    "X_test = scaler.transform(X_test)"
   ]
  },
  {
   "cell_type": "code",
   "execution_count": null,
   "metadata": {},
   "outputs": [],
   "source": []
  },
  {
   "cell_type": "code",
   "execution_count": 56,
   "metadata": {
    "scrolled": false
   },
   "outputs": [
    {
     "name": "stdout",
     "output_type": "stream",
     "text": [
      "                            OLS Regression Results                            \n",
      "==============================================================================\n",
      "Dep. Variable:           status_group   R-squared:                       0.205\n",
      "Model:                            OLS   Adj. R-squared:                  0.204\n",
      "Method:                 Least Squares   F-statistic:                     139.2\n",
      "Date:                Thu, 23 May 2024   Prob (F-statistic):               0.00\n",
      "Time:                        00:59:18   Log-Likelihood:                -49837.\n",
      "No. Observations:               59400   AIC:                         9.990e+04\n",
      "Df Residuals:                   59289   BIC:                         1.009e+05\n",
      "Df Model:                         110                                         \n",
      "Covariance Type:            nonrobust                                         \n",
      "===============================================================================================================\n",
      "                                                  coef    std err          t      P>|t|      [0.025      0.975]\n",
      "---------------------------------------------------------------------------------------------------------------\n",
      "const                                          -2.7991      9.311     -0.301      0.764     -21.048      15.450\n",
      "amount_tsh                                   -2.95e-06   7.91e-07     -3.730      0.000    -4.5e-06    -1.4e-06\n",
      "gps_height                                     -0.0016   8.22e-05    -19.748      0.000      -0.002      -0.001\n",
      "longitude                                      -0.0016   8.22e-05    -19.748      0.000      -0.002      -0.001\n",
      "latitude                                        0.0467      0.004     11.747      0.000       0.039       0.055\n",
      "num_private                                     0.0001      0.000      0.655      0.513      -0.000       0.000\n",
      "district_code                               -5.227e-05      0.000     -0.158      0.874      -0.001       0.001\n",
      "population                                  -2.312e-05   5.29e-06     -4.370      0.000   -3.35e-05   -1.28e-05\n",
      "construction_year                              -0.0016   8.22e-05    -19.748      0.000      -0.002      -0.001\n",
      "month_recorded                                 -0.0048      0.001     -5.117      0.000      -0.007      -0.003\n",
      "year_recorded                                   0.0077      0.008      0.951      0.342      -0.008       0.024\n",
      "basin_Lake Nyasa                               -0.1036      0.024     -4.384      0.000      -0.150      -0.057\n",
      "basin_Lake Rukwa                                0.1533      0.023      6.724      0.000       0.109       0.198\n",
      "basin_Lake Tanganyika                           0.0397      0.016      2.462      0.014       0.008       0.071\n",
      "basin_Lake Victoria                             0.0984      0.017      5.677      0.000       0.064       0.132\n",
      "basin_Pangani                                   0.0485      0.016      2.974      0.003       0.017       0.080\n",
      "basin_Rufiji                                   -0.0032      0.020     -0.157      0.875      -0.043       0.037\n",
      "basin_Ruvuma / Southern Coast                   0.0548      0.030      1.798      0.072      -0.005       0.115\n",
      "basin_Wami / Ruvu                              -0.0315      0.019     -1.622      0.105      -0.070       0.007\n",
      "region_Dar es Salaam                            0.2300      0.037      6.222      0.000       0.158       0.302\n",
      "region_Dodoma                                   0.2731      0.029      9.532      0.000       0.217       0.329\n",
      "region_Iringa                                   0.2538      0.033      7.688      0.000       0.189       0.319\n",
      "region_Kagera                                   0.0403      0.031      1.314      0.189      -0.020       0.100\n",
      "region_Kigoma                                   0.3903      0.026     14.735      0.000       0.338       0.442\n",
      "region_Kilimanjaro                              0.1759      0.016     10.857      0.000       0.144       0.208\n",
      "region_Lindi                                    0.4971      0.039     12.753      0.000       0.421       0.573\n",
      "region_Manyara                                  0.1662      0.020      8.223      0.000       0.127       0.206\n",
      "region_Mara                                     0.1198      0.028      4.209      0.000       0.064       0.176\n",
      "region_Mbeya                                    0.4856      0.033     14.705      0.000       0.421       0.550\n",
      "region_Morogoro                                 0.4197      0.031     13.546      0.000       0.359       0.480\n",
      "region_Mtwara                                   0.5376      0.041     13.213      0.000       0.458       0.617\n",
      "region_Mwanza                                  -0.0248      0.031     -0.800      0.423      -0.085       0.036\n",
      "region_Pwani                                    0.3895      0.032     11.989      0.000       0.326       0.453\n",
      "region_Rukwa                                    0.3824      0.031     12.219      0.000       0.321       0.444\n",
      "region_Ruvuma                                   0.4778      0.037     12.945      0.000       0.405       0.550\n",
      "region_Shinyanga                                0.1448      0.023      6.270      0.000       0.100       0.190\n",
      "region_Singida                                  0.2140      0.022      9.727      0.000       0.171       0.257\n",
      "region_Tabora                                   0.1773      0.025      7.036      0.000       0.128       0.227\n",
      "region_Tanga                                    0.1050      0.024      4.458      0.000       0.059       0.151\n",
      "public_meeting_True                            -0.0897      0.008    -11.440      0.000      -0.105      -0.074\n",
      "scheme_management_None                         -0.2759      0.562     -0.491      0.623      -1.377       0.826\n",
      "scheme_management_Other                        -0.1527      0.043     -3.553      0.000      -0.237      -0.068\n",
      "scheme_management_Parastatal                    0.0653      0.044      1.473      0.141      -0.022       0.152\n",
      "scheme_management_Private operator              0.0804      0.037      2.168      0.030       0.008       0.153\n",
      "scheme_management_SWC                          -0.0277      0.129     -0.215      0.829      -0.280       0.224\n",
      "scheme_management_Trust                        -0.2344      0.118     -1.983      0.047      -0.466      -0.003\n",
      "scheme_management_VWC                          -0.0428      0.032     -1.317      0.188      -0.106       0.021\n",
      "scheme_management_WUA                          -0.0742      0.036     -2.040      0.041      -0.146      -0.003\n",
      "scheme_management_WUG                           0.0520      0.036      1.450      0.147      -0.018       0.122\n",
      "scheme_management_Water Board                  -0.2030      0.037     -5.505      0.000      -0.275      -0.131\n",
      "scheme_management_Water authority               0.0409      0.035      1.176      0.239      -0.027       0.109\n",
      "permit_True                                    -0.0396      0.006     -6.413      0.000      -0.052      -0.027\n",
      "extraction_type_cemo                           -0.1528      0.420     -0.364      0.716      -0.975       0.670\n",
      "extraction_type_climax                         -0.0293      0.422     -0.069      0.945      -0.856       0.798\n",
      "extraction_type_gravity                        -0.3656      1.354     -0.270      0.787      -3.020       2.289\n",
      "extraction_type_india mark ii                   0.0147      0.009      1.606      0.108      -0.003       0.033\n",
      "extraction_type_india mark iii                  0.1101      0.029      3.745      0.000       0.052       0.168\n",
      "extraction_type_ksb                            -0.1051      0.542     -0.194      0.846      -1.167       0.957\n",
      "extraction_type_mono                           -0.1883      0.625     -0.301      0.763      -1.414       1.037\n",
      "extraction_type_nira/tanira                     0.0011      0.008      0.131      0.896      -0.015       0.017\n",
      "extraction_type_other                          -0.2401      0.903     -0.266      0.790      -2.010       1.529\n",
      "extraction_type_other - mkulima/shinyanga       0.3121      0.318      0.982      0.326      -0.311       0.935\n",
      "extraction_type_other - play pump               0.0504      0.095      0.528      0.597      -0.137       0.238\n",
      "extraction_type_other - rope pump              -0.2892      0.903     -0.320      0.749      -2.059       1.480\n",
      "extraction_type_other - swn 81                 -0.0992      0.087     -1.135      0.256      -0.270       0.072\n",
      "extraction_type_submersible                    -0.1888      0.542     -0.348      0.727      -1.250       0.873\n",
      "extraction_type_swn 80                          0.0550      0.009      6.229      0.000       0.038       0.072\n",
      "extraction_type_walimi                         -0.0279      0.104     -0.269      0.788      -0.231       0.176\n",
      "extraction_type_windmill                       -0.2339      0.903     -0.259      0.796      -2.004       1.536\n",
      "extraction_type_group_gravity                  -0.3656      1.354     -0.270      0.787      -3.020       2.289\n",
      "extraction_type_group_india mark ii             0.0147      0.009      1.606      0.108      -0.003       0.033\n",
      "extraction_type_group_india mark iii            0.1101      0.029      3.745      0.000       0.052       0.168\n",
      "extraction_type_group_mono                     -0.1883      0.625     -0.301      0.763      -1.414       1.037\n",
      "extraction_type_group_nira/tanira               0.0011      0.008      0.131      0.896      -0.015       0.017\n",
      "extraction_type_group_other                    -0.2401      0.903     -0.266      0.790      -2.010       1.529\n",
      "extraction_type_group_other handpump            0.2354      0.083      2.835      0.005       0.073       0.398\n",
      "extraction_type_group_other motorpump          -0.1821      0.833     -0.218      0.827      -1.816       1.451\n",
      "extraction_type_group_rope pump                -0.2892      0.903     -0.320      0.749      -2.059       1.480\n",
      "extraction_type_group_submersible              -0.2938      1.083     -0.271      0.786      -2.417       1.829\n",
      "extraction_type_group_swn 80                    0.0550      0.009      6.229      0.000       0.038       0.072\n",
      "extraction_type_group_wind-powered             -0.2339      0.903     -0.259      0.796      -2.004       1.536\n",
      "extraction_type_class_handpump                 -1.0061      2.707     -0.372      0.710      -6.312       4.300\n",
      "extraction_type_class_motorpump                -0.3704      1.458     -0.254      0.799      -3.229       2.488\n",
      "extraction_type_class_other                    -0.2401      0.903     -0.266      0.790      -2.010       1.529\n",
      "extraction_type_class_rope pump                -0.2892      0.903     -0.320      0.749      -2.059       1.480\n",
      "extraction_type_class_submersible              -0.2938      1.083     -0.271      0.786      -2.417       1.829\n",
      "extraction_type_class_wind-powered             -0.2339      0.903     -0.259      0.796      -2.004       1.536\n",
      "management_other                               -0.1427      0.046     -3.070      0.002      -0.234      -0.052\n",
      "management_other - school                       0.0880      0.084      1.052      0.293      -0.076       0.252\n",
      "management_parastatal                          -0.0780      0.025     -3.161      0.002      -0.126      -0.030\n",
      "management_private operator                    -0.3590      0.041     -8.820      0.000      -0.439      -0.279\n",
      "management_trust                               -0.0146      0.117     -0.125      0.900      -0.243       0.214\n",
      "management_unknown                             -0.0715      0.024     -3.009      0.003      -0.118      -0.025\n",
      "management_vwc                                  0.0303      0.011      2.651      0.008       0.008       0.053\n",
      "management_water authority                     -0.1651      0.046     -3.603      0.000      -0.255      -0.075\n",
      "management_water board                         -0.0329      0.018     -1.863      0.062      -0.068       0.002\n",
      "management_wua                                  0.0260      0.021      1.255      0.209      -0.015       0.067\n",
      "management_wug                                 -0.0976      0.015     -6.357      0.000      -0.128      -0.067\n",
      "management_group_other                         -0.0547      0.049     -1.105      0.269      -0.152       0.042\n",
      "management_group_parastatal                    -0.0780      0.025     -3.161      0.002      -0.126      -0.030\n",
      "management_group_unknown                       -0.0715      0.024     -3.009      0.003      -0.118      -0.025\n",
      "management_group_user-group                    -0.0742      0.032     -2.340      0.019      -0.136      -0.012\n",
      "payment_other                                  -0.2894      1.035     -0.280      0.780      -2.317       1.739\n",
      "payment_pay annually                           -0.6889      2.069     -0.333      0.739      -4.744       3.366\n",
      "payment_pay monthly                            -0.3149      1.035     -0.304      0.761      -2.343       1.713\n",
      "payment_pay per bucket                         -0.3624      1.035     -0.350      0.726      -2.390       1.665\n",
      "payment_pay when scheme fails                  -0.3151      1.035     -0.305      0.761      -2.343       1.713\n",
      "payment_unknown                                -0.3078      1.034     -0.298      0.766      -2.335       1.720\n",
      "payment_type_monthly                           -0.3149      1.035     -0.304      0.761      -2.343       1.713\n",
      "payment_type_never pay                         -0.5206      2.069     -0.252      0.801      -4.576       3.534\n",
      "payment_type_on failure                        -0.3151      1.035     -0.305      0.761      -2.343       1.713\n",
      "payment_type_other                             -0.2894      1.035     -0.280      0.780      -2.317       1.739\n",
      "payment_type_per bucket                        -0.3624      1.035     -0.350      0.726      -2.390       1.665\n",
      "payment_type_unknown                           -0.3078      1.034     -0.298      0.766      -2.335       1.720\n",
      "water_quality_fluoride                         -0.1303      0.053     -2.439      0.015      -0.235      -0.026\n",
      "water_quality_fluoride abandoned                0.1141      0.092      1.238      0.216      -0.067       0.295\n",
      "water_quality_milky                            -0.0682      0.017     -4.026      0.000      -0.101      -0.035\n",
      "water_quality_salty                            -0.0650      0.015     -4.409      0.000      -0.094      -0.036\n",
      "water_quality_salty abandoned                   0.1297      0.023      5.658      0.000       0.085       0.175\n",
      "water_quality_soft                             -0.0131      0.013     -1.007      0.314      -0.039       0.012\n",
      "water_quality_unknown                          -0.0327      0.015     -2.119      0.034      -0.063      -0.002\n",
      "quality_group_fluoride                         -0.0163      0.050     -0.323      0.747      -0.115       0.082\n",
      "quality_group_good                             -0.0131      0.013     -1.007      0.314      -0.039       0.012\n",
      "quality_group_milky                            -0.0682      0.017     -4.026      0.000      -0.101      -0.035\n",
      "quality_group_salty                             0.0646      0.020      3.159      0.002       0.025       0.105\n",
      "quality_group_unknown                          -0.0327      0.015     -2.119      0.034      -0.063      -0.002\n",
      "quantity_enough                                -0.2299      0.004    -52.610      0.000      -0.239      -0.221\n",
      "quantity_insufficient                          -0.1711      0.005    -36.169      0.000      -0.180      -0.162\n",
      "quantity_seasonal                              -0.1944      0.006    -30.629      0.000      -0.207      -0.182\n",
      "quantity_unknown                               -0.1098      0.012     -8.945      0.000      -0.134      -0.086\n",
      "quantity_group_enough                          -0.2299      0.004    -52.610      0.000      -0.239      -0.221\n",
      "quantity_group_insufficient                    -0.1711      0.005    -36.169      0.000      -0.180      -0.162\n",
      "quantity_group_seasonal                        -0.1944      0.006    -30.629      0.000      -0.207      -0.182\n",
      "quantity_group_unknown                         -0.1098      0.012     -8.945      0.000      -0.134      -0.086\n",
      "source_hand dtw                                -0.6080      2.280     -0.267      0.790      -5.076       3.860\n",
      "source_lake                                    -0.0851      0.241     -0.354      0.724      -0.557       0.386\n",
      "source_machine dbh                             -0.6646      2.280     -0.291      0.771      -5.133       3.804\n",
      "source_other                                   -0.2496      0.457     -0.546      0.585      -1.146       0.647\n",
      "source_rainwater harvesting                    -0.1494      0.360     -0.415      0.678      -0.855       0.556\n",
      "source_river                                   -0.0455      0.240     -0.189      0.850      -0.516       0.425\n",
      "source_shallow well                            -0.3391      1.140     -0.297      0.766      -2.573       1.895\n",
      "source_spring                                  -0.3734      1.140     -0.328      0.743      -2.607       1.861\n",
      "source_unknown                                 -0.0907      0.458     -0.198      0.843      -0.988       0.807\n",
      "source_type_dam                                -0.1939      0.720     -0.269      0.788      -1.605       1.218\n",
      "source_type_other                              -0.3403      0.912     -0.373      0.709      -2.128       1.447\n",
      "source_type_rainwater harvesting               -0.1494      0.360     -0.415      0.678      -0.855       0.556\n",
      "source_type_river/lake                         -0.1305      0.480     -0.272      0.786      -1.071       0.810\n",
      "source_type_shallow well                       -0.3391      1.140     -0.297      0.766      -2.573       1.895\n",
      "source_type_spring                             -0.3734      1.140     -0.328      0.743      -2.607       1.861\n",
      "source_class_surface                           -0.4737      1.560     -0.304      0.761      -3.531       2.584\n",
      "source_class_unknown                           -0.3403      0.912     -0.373      0.709      -2.128       1.447\n",
      "waterpoint_type_communal standpipe             -0.0135      0.018     -0.743      0.458      -0.049       0.022\n",
      "waterpoint_type_communal standpipe multiple     0.1699      0.019      9.157      0.000       0.134       0.206\n",
      "waterpoint_type_dam                            -0.1106      0.110     -1.007      0.314      -0.326       0.105\n",
      "waterpoint_type_hand pump                       0.1027      0.028      3.616      0.000       0.047       0.158\n",
      "waterpoint_type_improved spring                -0.0334      0.029     -1.161      0.246      -0.090       0.023\n",
      "waterpoint_type_other                           0.1868      0.027      6.855      0.000       0.133       0.240\n",
      "waterpoint_type_group_communal standpipe        0.1564      0.036      4.401      0.000       0.087       0.226\n",
      "waterpoint_type_group_dam                      -0.1106      0.110     -1.007      0.314      -0.326       0.105\n",
      "waterpoint_type_group_hand pump                 0.1027      0.028      3.616      0.000       0.047       0.158\n",
      "waterpoint_type_group_improved spring          -0.0334      0.029     -1.161      0.246      -0.090       0.023\n",
      "waterpoint_type_group_other                     0.1868      0.027      6.855      0.000       0.133       0.240\n",
      "season_recorded_Wet                             0.0215      0.006      3.617      0.000       0.010       0.033\n",
      "==============================================================================\n",
      "Omnibus:                     8779.934   Durbin-Watson:                   1.999\n",
      "Prob(Omnibus):                  0.000   Jarque-Bera (JB):            13345.312\n",
      "Skew:                           1.076   Prob(JB):                         0.00\n",
      "Kurtosis:                       3.872   Cond. No.                     1.00e+16\n",
      "==============================================================================\n",
      "\n",
      "Notes:\n",
      "[1] Standard Errors assume that the covariance matrix of the errors is correctly specified.\n",
      "[2] The smallest eigenvalue is 9.55e-21. This might indicate that there are\n",
      "strong multicollinearity problems or that the design matrix is singular.\n"
     ]
    }
   ],
   "source": [
    "# Create an OLS model\n",
    "lin_model = sm.OLS(endog = y, exog = sm.add_constant(X))\n",
    "results = lin_model.fit()\n",
    "\n",
    "#Printing a summary of our results\n",
    "print(results.summary())"
   ]
  },
  {
   "cell_type": "markdown",
   "metadata": {},
   "source": [
    "#### Observations.\n",
    "The Feature variables only explain 20% in the variability of our target variable\n",
    "Further analysis is required to enable us increase the predictive power of our model, using classification models"
   ]
  },
  {
   "cell_type": "markdown",
   "metadata": {},
   "source": [
    "## 7. Classification Analysis"
   ]
  },
  {
   "cell_type": "markdown",
   "metadata": {},
   "source": [
    "### Logistic Regression"
   ]
  },
  {
   "cell_type": "code",
   "execution_count": 60,
   "metadata": {},
   "outputs": [
    {
     "name": "stdout",
     "output_type": "stream",
     "text": [
      "              precision    recall  f1-score   support\n",
      "\n",
      "           0       0.72      0.90      0.80      6457\n",
      "           1       0.79      0.64      0.71      4572\n",
      "           2       0.49      0.07      0.12       851\n",
      "\n",
      "    accuracy                           0.74     11880\n",
      "   macro avg       0.66      0.53      0.54     11880\n",
      "weighted avg       0.73      0.74      0.71     11880\n",
      "\n",
      "[[5781  642   34]\n",
      " [1625 2921   26]\n",
      " [ 645  149   57]]\n"
     ]
    },
    {
     "name": "stderr",
     "output_type": "stream",
     "text": [
      "C:\\Users\\USER\\anaconda3\\lib\\site-packages\\sklearn\\linear_model\\_sag.py:330: ConvergenceWarning: The max_iter was reached which means the coef_ did not converge\n",
      "  \"the coef_ did not converge\", ConvergenceWarning)\n"
     ]
    }
   ],
   "source": [
    "# Model training\n",
    "\n",
    "model = LogisticRegression(max_iter=100, tol=1e-4, solver='sag', random_state=42)\n",
    "model.fit(X_train, y_train)\n",
    "\n",
    "# Model evaluation\n",
    "y_pred = model.predict(X_test)\n",
    "print(classification_report(y_test, y_pred))\n",
    "print(confusion_matrix(y_test, y_pred))\n"
   ]
  },
  {
   "cell_type": "markdown",
   "metadata": {},
   "source": [
    "##### Observations\n",
    "Our Logistic Regression perfoms with weighted precision of only 0.73 and an accuracy of 74%"
   ]
  },
  {
   "cell_type": "code",
   "execution_count": null,
   "metadata": {},
   "outputs": [],
   "source": []
  },
  {
   "cell_type": "markdown",
   "metadata": {},
   "source": [
    "### Gradient Boosting Model"
   ]
  },
  {
   "cell_type": "code",
   "execution_count": 61,
   "metadata": {},
   "outputs": [
    {
     "name": "stdout",
     "output_type": "stream",
     "text": [
      "              precision    recall  f1-score   support\n",
      "\n",
      "           0       0.79      0.91      0.84      6457\n",
      "           1       0.85      0.74      0.79      4572\n",
      "           2       0.60      0.30      0.40       851\n",
      "\n",
      "    accuracy                           0.80     11880\n",
      "   macro avg       0.74      0.65      0.68     11880\n",
      "weighted avg       0.80      0.80      0.79     11880\n",
      "\n",
      "[[5861  478  118]\n",
      " [1131 3386   55]\n",
      " [ 469  127  255]]\n"
     ]
    }
   ],
   "source": [
    "from sklearn.ensemble import GradientBoostingClassifier\n",
    "\n",
    "# Model training and fitting\n",
    "model = GradientBoostingClassifier(max_depth=8,random_state=42)\n",
    "model.fit(X_train, y_train)\n",
    "\n",
    "# Model evaluation\n",
    "y_pred = model.predict(X_test)\n",
    "print(classification_report(y_test, y_pred))\n",
    "print(confusion_matrix(y_test, y_pred))\n"
   ]
  },
  {
   "cell_type": "code",
   "execution_count": 63,
   "metadata": {},
   "outputs": [
    {
     "name": "stdout",
     "output_type": "stream",
     "text": [
      "Train set Accuracy:  0.8617424242424242\n",
      "Test set Accuracy:  0.7998316498316498\n"
     ]
    }
   ],
   "source": [
    "print('Train set Accuracy: ', metrics.accuracy_score(y_train, model.predict(X_train)))\n",
    "print('Test set Accuracy: ', metrics.accuracy_score(y_test, y_pred))"
   ]
  },
  {
   "cell_type": "markdown",
   "metadata": {},
   "source": [
    "##### Observations\n",
    "Our Gradient boosting model gives us a weighted precision 0.8 and an accuracy of 80%\n",
    "The model performs well"
   ]
  },
  {
   "cell_type": "code",
   "execution_count": null,
   "metadata": {},
   "outputs": [],
   "source": []
  },
  {
   "cell_type": "markdown",
   "metadata": {},
   "source": [
    "### Decision Tree Model"
   ]
  },
  {
   "cell_type": "code",
   "execution_count": 64,
   "metadata": {},
   "outputs": [
    {
     "name": "stdout",
     "output_type": "stream",
     "text": [
      "              precision    recall  f1-score   support\n",
      "\n",
      "           0       0.67      0.92      0.78      6457\n",
      "           1       0.81      0.50      0.62      4572\n",
      "           2       0.43      0.08      0.14       851\n",
      "\n",
      "    accuracy                           0.70     11880\n",
      "   macro avg       0.64      0.50      0.51     11880\n",
      "weighted avg       0.71      0.70      0.67     11880\n",
      "\n",
      "[[5955  457   45]\n",
      " [2244 2282   46]\n",
      " [ 698   84   69]]\n"
     ]
    }
   ],
   "source": [
    "from sklearn.tree import DecisionTreeClassifier\n",
    "\n",
    "# Model training\n",
    "model = DecisionTreeClassifier(criterion='entropy', max_depth=5, random_state = 42)\n",
    "model.fit(X_train, y_train)\n",
    "\n",
    "# Model evaluation\n",
    "y_pred = model.predict(X_test)\n",
    "print(classification_report(y_test, y_pred))\n",
    "print(confusion_matrix(y_test, y_pred))\n"
   ]
  },
  {
   "cell_type": "code",
   "execution_count": 65,
   "metadata": {},
   "outputs": [
    {
     "name": "stdout",
     "output_type": "stream",
     "text": [
      "Train set Accuracy:  0.7027146464646464\n",
      "Test set Accuracy:  0.6991582491582492\n"
     ]
    }
   ],
   "source": [
    "print('Train set Accuracy: ', metrics.accuracy_score(y_train, model.predict(X_train)))\n",
    "print('Test set Accuracy: ', metrics.accuracy_score(y_test, y_pred))"
   ]
  },
  {
   "cell_type": "markdown",
   "metadata": {},
   "source": [
    "##### Observations\n",
    "Our Decision Tree model gives us a weighted precision 0.75 and an accuracy of 75%\n",
    "\n",
    "The Train and test accurancy is both 70%\n"
   ]
  },
  {
   "cell_type": "code",
   "execution_count": null,
   "metadata": {},
   "outputs": [],
   "source": []
  },
  {
   "cell_type": "code",
   "execution_count": null,
   "metadata": {},
   "outputs": [],
   "source": []
  },
  {
   "cell_type": "markdown",
   "metadata": {},
   "source": [
    "###  Random Forest Model"
   ]
  },
  {
   "cell_type": "code",
   "execution_count": 70,
   "metadata": {},
   "outputs": [
    {
     "name": "stdout",
     "output_type": "stream",
     "text": [
      "              precision    recall  f1-score   support\n",
      "\n",
      "           0       0.81      0.84      0.82      6457\n",
      "           1       0.80      0.78      0.79      4572\n",
      "           2       0.44      0.36      0.39       851\n",
      "\n",
      "    accuracy                           0.78     11880\n",
      "   macro avg       0.68      0.66      0.67     11880\n",
      "weighted avg       0.78      0.78      0.78     11880\n",
      "\n",
      "[[5439  748  270]\n",
      " [ 889 3559  124]\n",
      " [ 401  144  306]]\n"
     ]
    }
   ],
   "source": [
    "from sklearn.ensemble import RandomForestClassifier\n",
    "\n",
    "# Model training\n",
    "model = RandomForestClassifier(random_state=42)\n",
    "model.fit(X_train, y_train)\n",
    "\n",
    "# Model evaluation\n",
    "y_pred = model.predict(X_test)\n",
    "print(classification_report(y_test, y_pred))\n",
    "print(confusion_matrix(y_test, y_pred))\n"
   ]
  },
  {
   "cell_type": "code",
   "execution_count": 71,
   "metadata": {},
   "outputs": [
    {
     "name": "stdout",
     "output_type": "stream",
     "text": [
      "Train set Accuracy:  0.9964225589225589\n",
      "Test set Accuracy:  0.7831649831649832\n"
     ]
    }
   ],
   "source": [
    "print('Train set Accuracy: ', metrics.accuracy_score(y_train, model.predict(X_train)))\n",
    "print('Test set Accuracy: ', metrics.accuracy_score(y_test, y_pred))"
   ]
  },
  {
   "cell_type": "markdown",
   "metadata": {},
   "source": [
    "##### Observations\n",
    "Our Random Forest model gives us a weighted precision 0.78 and an accuracy of 78%\n",
    "\n",
    "The train and test accuracy is 100% and 78% respectively"
   ]
  },
  {
   "cell_type": "code",
   "execution_count": null,
   "metadata": {},
   "outputs": [],
   "source": []
  },
  {
   "cell_type": "markdown",
   "metadata": {},
   "source": [
    "### K-Nearest Neighbors"
   ]
  },
  {
   "cell_type": "code",
   "execution_count": 72,
   "metadata": {},
   "outputs": [
    {
     "name": "stdout",
     "output_type": "stream",
     "text": [
      "              precision    recall  f1-score   support\n",
      "\n",
      "           0       0.77      0.86      0.81      6457\n",
      "           1       0.79      0.73      0.76      4572\n",
      "           2       0.50      0.29      0.37       851\n",
      "\n",
      "    accuracy                           0.77     11880\n",
      "   macro avg       0.69      0.63      0.65     11880\n",
      "weighted avg       0.76      0.77      0.76     11880\n",
      "\n",
      "[[5533  758  166]\n",
      " [1160 3335   77]\n",
      " [ 455  150  246]]\n"
     ]
    }
   ],
   "source": [
    "from sklearn.neighbors import KNeighborsClassifier\n",
    "\n",
    "# Model training\n",
    "model = KNeighborsClassifier(n_neighbors=5)\n",
    "model.fit(X_train, y_train)\n",
    "\n",
    "# Model evaluation\n",
    "y_pred = model.predict(X_test)\n",
    "print(classification_report(y_test, y_pred))\n",
    "print(confusion_matrix(y_test, y_pred))\n"
   ]
  },
  {
   "cell_type": "code",
   "execution_count": 73,
   "metadata": {},
   "outputs": [
    {
     "name": "stdout",
     "output_type": "stream",
     "text": [
      "Train set Accuracy:  0.8321969696969697\n",
      "Test set Accuracy:  0.7671717171717172\n"
     ]
    }
   ],
   "source": [
    "print('Train set Accuracy: ', metrics.accuracy_score(y_train, model.predict(X_train)))\n",
    "print('Test set Accuracy: ', metrics.accuracy_score(y_test, y_pred))"
   ]
  },
  {
   "cell_type": "markdown",
   "metadata": {},
   "source": [
    "##### Observations\n",
    "Our K-nearest Neighbors model gives us a weighted precision 0.71 and an accuracy of 72%\n",
    "\n",
    "The train and test accuracy is 83% and 77% respectively\n"
   ]
  },
  {
   "cell_type": "code",
   "execution_count": null,
   "metadata": {},
   "outputs": [],
   "source": []
  },
  {
   "cell_type": "markdown",
   "metadata": {},
   "source": [
    "### AdaBoost"
   ]
  },
  {
   "cell_type": "code",
   "execution_count": 74,
   "metadata": {},
   "outputs": [
    {
     "name": "stdout",
     "output_type": "stream",
     "text": [
      "              precision    recall  f1-score   support\n",
      "\n",
      "           0       0.72      0.92      0.81      6457\n",
      "           1       0.83      0.62      0.71      4572\n",
      "           2       0.54      0.13      0.21       851\n",
      "\n",
      "    accuracy                           0.75     11880\n",
      "   macro avg       0.70      0.56      0.58     11880\n",
      "weighted avg       0.75      0.75      0.73     11880\n",
      "\n",
      "[[5968  439   50]\n",
      " [1688 2842   42]\n",
      " [ 605  138  108]]\n"
     ]
    }
   ],
   "source": [
    "from sklearn.ensemble import GradientBoostingClassifier\n",
    "\n",
    "# Create and fit the Gradient Boosting model\n",
    "gb = GradientBoostingClassifier(n_estimators=100, random_state=42)\n",
    "gb.fit(X_train, y_train)\n",
    "\n",
    "# Model evaluation\n",
    "y_pred = gb.predict(X_test)\n",
    "print(classification_report(y_test, y_pred))\n",
    "print(confusion_matrix(y_test, y_pred))\n"
   ]
  },
  {
   "cell_type": "code",
   "execution_count": null,
   "metadata": {},
   "outputs": [],
   "source": []
  },
  {
   "cell_type": "markdown",
   "metadata": {},
   "source": [
    "##### Observations\n",
    "Our Adaboost model gives us a weighted precision 0.75 and an accuracy of 75%\n"
   ]
  },
  {
   "cell_type": "code",
   "execution_count": null,
   "metadata": {},
   "outputs": [],
   "source": []
  },
  {
   "cell_type": "code",
   "execution_count": null,
   "metadata": {},
   "outputs": [],
   "source": []
  },
  {
   "cell_type": "markdown",
   "metadata": {},
   "source": [
    "## 8.  Model Evaluation"
   ]
  },
  {
   "cell_type": "markdown",
   "metadata": {},
   "source": [
    "Overall, The best perfoming classsication model is the Gradient Boosting Model with an accurancy of 80%. \n",
    "Further, the random forest model performed well with an accuracy of 78%"
   ]
  },
  {
   "cell_type": "code",
   "execution_count": null,
   "metadata": {},
   "outputs": [],
   "source": []
  },
  {
   "cell_type": "markdown",
   "metadata": {},
   "source": [
    "## 9. Conclusion"
   ]
  },
  {
   "cell_type": "markdown",
   "metadata": {},
   "source": [
    "Using the Gradient Bosting Model, We can accurately predict 80% if a water pump needs repair"
   ]
  },
  {
   "cell_type": "code",
   "execution_count": null,
   "metadata": {},
   "outputs": [],
   "source": []
  }
 ],
 "metadata": {
  "kernelspec": {
   "display_name": "Python 3",
   "language": "python",
   "name": "python3"
  },
  "language_info": {
   "codemirror_mode": {
    "name": "ipython",
    "version": 3
   },
   "file_extension": ".py",
   "mimetype": "text/x-python",
   "name": "python",
   "nbconvert_exporter": "python",
   "pygments_lexer": "ipython3",
   "version": "3.7.6"
  }
 },
 "nbformat": 4,
 "nbformat_minor": 4
}
